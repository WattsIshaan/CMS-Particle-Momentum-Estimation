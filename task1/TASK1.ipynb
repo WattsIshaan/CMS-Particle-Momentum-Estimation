{
  "cells": [
    {
      "cell_type": "markdown",
      "source": [
        "# **Graph Neural Networks for Particle Momentum Estimation in the CMS Trigger System Task-1**"
      ],
      "metadata": {
        "id": "I8iAerWEG-w7"
      }
    },
    {
      "cell_type": "code",
      "source": [
        "from google.colab import drive\n",
        "drive.mount('/content/drive')"
      ],
      "metadata": {
        "id": "8zJyouq3qm84",
        "colab": {
          "base_uri": "https://localhost:8080/"
        },
        "outputId": "1f6545fd-4f86-4e99-fb8b-9ba832b40689"
      },
      "execution_count": null,
      "outputs": [
        {
          "output_type": "stream",
          "name": "stdout",
          "text": [
            "Mounted at /content/drive\n"
          ]
        }
      ]
    },
    {
      "cell_type": "markdown",
      "source": [
        "## Installing Requirements"
      ],
      "metadata": {
        "id": "ZvvrAEcAKFe_"
      }
    },
    {
      "cell_type": "code",
      "source": [
        "!pip install pyg_lib torch_scatter torch_sparse -f https://data.pyg.org/whl/torch-1.13.1+cu116.html\n",
        "!pip install torch-geometric"
      ],
      "metadata": {
        "colab": {
          "base_uri": "https://localhost:8080/",
          "height": 939
        },
        "id": "vcedMLr7KIjX",
        "outputId": "bc4e4afe-0482-45c5-9c46-91bd1919919c"
      },
      "execution_count": null,
      "outputs": [
        {
          "output_type": "stream",
          "name": "stdout",
          "text": [
            "Looking in indexes: https://pypi.org/simple, https://us-python.pkg.dev/colab-wheels/public/simple/\n",
            "Looking in links: https://data.pyg.org/whl/torch-1.13.1+cu116.html\n",
            "Collecting pyg_lib\n",
            "  Downloading https://data.pyg.org/whl/torch-1.13.0%2Bcu116/pyg_lib-0.1.0%2Bpt113cu116-cp38-cp38-linux_x86_64.whl (1.9 MB)\n",
            "\u001b[2K     \u001b[90m━━━━━━━━━━━━━━━━━━━━━━━━━━━━━━━━━━━━━━━━\u001b[0m \u001b[32m1.9/1.9 MB\u001b[0m \u001b[31m13.1 MB/s\u001b[0m eta \u001b[36m0:00:00\u001b[0m\n",
            "\u001b[?25hCollecting torch_scatter\n",
            "  Downloading https://data.pyg.org/whl/torch-1.13.0%2Bcu116/torch_scatter-2.1.0%2Bpt113cu116-cp38-cp38-linux_x86_64.whl (9.4 MB)\n",
            "\u001b[2K     \u001b[90m━━━━━━━━━━━━━━━━━━━━━━━━━━━━━━━━━━━━━━━━\u001b[0m \u001b[32m9.4/9.4 MB\u001b[0m \u001b[31m82.6 MB/s\u001b[0m eta \u001b[36m0:00:00\u001b[0m\n",
            "\u001b[?25hCollecting torch_sparse\n",
            "  Downloading https://data.pyg.org/whl/torch-1.13.0%2Bcu116/torch_sparse-0.6.16%2Bpt113cu116-cp38-cp38-linux_x86_64.whl (4.5 MB)\n",
            "\u001b[2K     \u001b[90m━━━━━━━━━━━━━━━━━━━━━━━━━━━━━━━━━━━━━━━━\u001b[0m \u001b[32m4.5/4.5 MB\u001b[0m \u001b[31m90.2 MB/s\u001b[0m eta \u001b[36m0:00:00\u001b[0m\n",
            "\u001b[?25hRequirement already satisfied: scipy in /usr/local/lib/python3.8/dist-packages (from torch_sparse) (1.10.1)\n",
            "Requirement already satisfied: numpy<1.27.0,>=1.19.5 in /usr/local/lib/python3.8/dist-packages (from scipy->torch_sparse) (1.22.4)\n",
            "Installing collected packages: torch_scatter, pyg_lib, torch_sparse\n",
            "Successfully installed pyg_lib-0.1.0+pt113cu116 torch_scatter-2.1.0+pt113cu116 torch_sparse-0.6.16+pt113cu116\n",
            "Looking in indexes: https://pypi.org/simple, https://us-python.pkg.dev/colab-wheels/public/simple/\n",
            "Collecting torch-geometric\n",
            "  Downloading torch_geometric-2.2.0.tar.gz (564 kB)\n",
            "\u001b[2K     \u001b[90m━━━━━━━━━━━━━━━━━━━━━━━━━━━━━━━━━━━━━━━\u001b[0m \u001b[32m565.0/565.0 KB\u001b[0m \u001b[31m9.7 MB/s\u001b[0m eta \u001b[36m0:00:00\u001b[0m\n",
            "\u001b[?25h  Preparing metadata (setup.py) ... \u001b[?25l\u001b[?25hdone\n",
            "Requirement already satisfied: tqdm in /usr/local/lib/python3.8/dist-packages (from torch-geometric) (4.64.1)\n",
            "Requirement already satisfied: numpy in /usr/local/lib/python3.8/dist-packages (from torch-geometric) (1.22.4)\n",
            "Requirement already satisfied: scipy in /usr/local/lib/python3.8/dist-packages (from torch-geometric) (1.10.1)\n",
            "Requirement already satisfied: jinja2 in /usr/local/lib/python3.8/dist-packages (from torch-geometric) (3.1.2)\n",
            "Requirement already satisfied: requests in /usr/local/lib/python3.8/dist-packages (from torch-geometric) (2.25.1)\n",
            "Requirement already satisfied: pyparsing in /usr/local/lib/python3.8/dist-packages (from torch-geometric) (3.0.9)\n",
            "Requirement already satisfied: scikit-learn in /usr/local/lib/python3.8/dist-packages (from torch-geometric) (1.2.1)\n",
            "Collecting psutil>=5.8.0\n",
            "  Downloading psutil-5.9.4-cp36-abi3-manylinux_2_12_x86_64.manylinux2010_x86_64.manylinux_2_17_x86_64.manylinux2014_x86_64.whl (280 kB)\n",
            "\u001b[2K     \u001b[90m━━━━━━━━━━━━━━━━━━━━━━━━━━━━━━━━━━━━━━\u001b[0m \u001b[32m280.2/280.2 KB\u001b[0m \u001b[31m31.8 MB/s\u001b[0m eta \u001b[36m0:00:00\u001b[0m\n",
            "\u001b[?25hRequirement already satisfied: MarkupSafe>=2.0 in /usr/local/lib/python3.8/dist-packages (from jinja2->torch-geometric) (2.1.2)\n",
            "Requirement already satisfied: idna<3,>=2.5 in /usr/local/lib/python3.8/dist-packages (from requests->torch-geometric) (2.10)\n",
            "Requirement already satisfied: chardet<5,>=3.0.2 in /usr/local/lib/python3.8/dist-packages (from requests->torch-geometric) (4.0.0)\n",
            "Requirement already satisfied: certifi>=2017.4.17 in /usr/local/lib/python3.8/dist-packages (from requests->torch-geometric) (2022.12.7)\n",
            "Requirement already satisfied: urllib3<1.27,>=1.21.1 in /usr/local/lib/python3.8/dist-packages (from requests->torch-geometric) (1.26.14)\n",
            "Requirement already satisfied: joblib>=1.1.1 in /usr/local/lib/python3.8/dist-packages (from scikit-learn->torch-geometric) (1.2.0)\n",
            "Requirement already satisfied: threadpoolctl>=2.0.0 in /usr/local/lib/python3.8/dist-packages (from scikit-learn->torch-geometric) (3.1.0)\n",
            "Building wheels for collected packages: torch-geometric\n",
            "  Building wheel for torch-geometric (setup.py) ... \u001b[?25l\u001b[?25hdone\n",
            "  Created wheel for torch-geometric: filename=torch_geometric-2.2.0-py3-none-any.whl size=773302 sha256=113a69d9764de97d8c7e9fb2c38f4c4c3490fd7dff52bf2984a55f71c5222ed2\n",
            "  Stored in directory: /root/.cache/pip/wheels/59/a3/20/198928106d3169865ae73afcbd3d3d1796cf6b429b55c65378\n",
            "Successfully built torch-geometric\n",
            "Installing collected packages: psutil, torch-geometric\n",
            "  Attempting uninstall: psutil\n",
            "    Found existing installation: psutil 5.4.8\n",
            "    Uninstalling psutil-5.4.8:\n",
            "      Successfully uninstalled psutil-5.4.8\n",
            "Successfully installed psutil-5.9.4 torch-geometric-2.2.0\n"
          ]
        },
        {
          "output_type": "display_data",
          "data": {
            "application/vnd.colab-display-data+json": {
              "pip_warning": {
                "packages": [
                  "psutil"
                ]
              }
            }
          },
          "metadata": {}
        }
      ]
    },
    {
      "cell_type": "markdown",
      "source": [
        "## Importing Libraries"
      ],
      "metadata": {
        "id": "3vcI9nVpxDSK"
      }
    },
    {
      "cell_type": "code",
      "source": [
        "import random\n",
        "import numpy as np\n",
        "import tensorflow as tf\n",
        "import h5py\n",
        "from tqdm import tqdm\n",
        "\n",
        "from sklearn.model_selection import train_test_split\n",
        "from sklearn.metrics import accuracy_score, roc_curve, auc, f1_score\n",
        "import matplotlib.pyplot as plt"
      ],
      "metadata": {
        "id": "OJ4Xoin8CACP"
      },
      "execution_count": 185,
      "outputs": []
    },
    {
      "cell_type": "code",
      "source": [
        "# Modules for keras model\n",
        "\n",
        "from keras.models import Model\n",
        "from keras.layers import Input, Conv2D, BatchNormalization, Activation, Add, MaxPooling2D, Flatten, Dense\n",
        "from keras.callbacks import LearningRateScheduler"
      ],
      "metadata": {
        "id": "An8o7Ar3HVPF"
      },
      "execution_count": 186,
      "outputs": []
    },
    {
      "cell_type": "code",
      "source": [
        "# Modules for pytorch model\n",
        "\n",
        "import torch\n",
        "import torch.nn as nn\n",
        "import torch.nn.functional as F\n",
        "from torch.utils.data import Dataset, DataLoader\n",
        "from torchvision import transforms\n",
        "import torch.optim as optim\n",
        "from torch.optim.lr_scheduler import StepLR"
      ],
      "metadata": {
        "id": "CMfkNvQSKgRY"
      },
      "execution_count": 187,
      "outputs": []
    },
    {
      "cell_type": "code",
      "source": [
        "seed = 3\n",
        "random.seed(seed)\n",
        "np.random.seed(seed)\n",
        "tf.random.set_seed(seed)"
      ],
      "metadata": {
        "id": "YYcWsFL8HZkD"
      },
      "execution_count": 188,
      "outputs": []
    },
    {
      "cell_type": "markdown",
      "source": [
        "## Reading the dataset"
      ],
      "metadata": {
        "id": "EPKyeMZlxG72"
      }
    },
    {
      "cell_type": "code",
      "source": [
        "with h5py.File('/content/drive/MyDrive/GSOC/task1/SingleElectronPt50_IMGCROPS_n249k_RHv1.hdf5', 'r') as f:\n",
        "  X_electron = f.get('X')[:]\n",
        "  y_electron = f.get('y')[:]\n",
        "\n",
        "with h5py.File('/content/drive/MyDrive/GSOC/task1/SinglePhotonPt50_IMGCROPS_n249k_RHv1.hdf5', 'r') as f:\n",
        "  X_photon = f.get('X')[:]\n",
        "  y_photon = f.get('y')[:]"
      ],
      "metadata": {
        "id": "3wqua_9Zp6k5"
      },
      "execution_count": 189,
      "outputs": []
    },
    {
      "cell_type": "code",
      "source": [
        "print(X_electron.shape, y_electron.shape)\n",
        "print(X_photon.shape, y_photon.shape)"
      ],
      "metadata": {
        "colab": {
          "base_uri": "https://localhost:8080/"
        },
        "id": "we1LVMCYrNlc",
        "outputId": "80d332db-f267-4010-c354-129519f63cf3"
      },
      "execution_count": 190,
      "outputs": [
        {
          "output_type": "stream",
          "name": "stdout",
          "text": [
            "(249000, 32, 32, 2) (249000,)\n",
            "(249000, 32, 32, 2) (249000,)\n"
          ]
        }
      ]
    },
    {
      "cell_type": "code",
      "source": [
        "X = np.concatenate((X_electron, X_photon), axis = 0)\n",
        "print(X.shape)"
      ],
      "metadata": {
        "colab": {
          "base_uri": "https://localhost:8080/"
        },
        "id": "fLnxfyGVxTCa",
        "outputId": "1e4e1e81-a6fe-421f-e519-9b23cdb19a6b"
      },
      "execution_count": 191,
      "outputs": [
        {
          "output_type": "stream",
          "name": "stdout",
          "text": [
            "(498000, 32, 32, 2)\n"
          ]
        }
      ]
    },
    {
      "cell_type": "code",
      "source": [
        "y = np.concatenate((y_electron, y_photon), axis = 0)\n",
        "y = y.reshape(-1,1)\n",
        "print(y.shape)"
      ],
      "metadata": {
        "colab": {
          "base_uri": "https://localhost:8080/"
        },
        "id": "e4DLxtSFxzuR",
        "outputId": "27f6ca30-59c8-45a3-d686-f4689d0fa070"
      },
      "execution_count": 192,
      "outputs": [
        {
          "output_type": "stream",
          "name": "stdout",
          "text": [
            "(498000, 1)\n"
          ]
        }
      ]
    },
    {
      "cell_type": "code",
      "source": [
        "del(X_photon, X_electron, y_electron, y_photon)"
      ],
      "metadata": {
        "id": "5jIH6yGO7LSJ"
      },
      "execution_count": 193,
      "outputs": []
    },
    {
      "cell_type": "code",
      "source": [
        "# Using only the energy channel for classification\n",
        "\n",
        "X = X.T[0].T\n",
        "X.reshape(-1,32,32,1)\n",
        "X.shape"
      ],
      "metadata": {
        "colab": {
          "base_uri": "https://localhost:8080/"
        },
        "id": "PsngIcsjUlj6",
        "outputId": "b92a4561-5d03-412f-e5e7-441ffe77a5c0"
      },
      "execution_count": 194,
      "outputs": [
        {
          "output_type": "execute_result",
          "data": {
            "text/plain": [
              "(498000, 32, 32)"
            ]
          },
          "metadata": {},
          "execution_count": 194
        }
      ]
    },
    {
      "cell_type": "markdown",
      "source": [
        "## Train-Val-Test split for the dataset \n",
        "\n",
        "Default ratio is set as 80/10/10 train-val-test"
      ],
      "metadata": {
        "id": "zLxSbHxhLMGT"
      }
    },
    {
      "cell_type": "code",
      "source": [
        "X_train, X_rem, Y_train, Y_rem = train_test_split(X, y, test_size = 0.20, stratify = y, \n",
        "                                                  shuffle = True, random_state = 1)\n",
        "del(X, y)\n",
        "\n",
        "X_val, X_test, Y_val, Y_test = train_test_split(X_rem, Y_rem, test_size = 0.50, stratify = Y_rem, \n",
        "                                                shuffle = True, random_state = 1)\n",
        "del(X_rem, Y_rem)"
      ],
      "metadata": {
        "id": "ydvM_d754MZz"
      },
      "execution_count": 195,
      "outputs": []
    },
    {
      "cell_type": "code",
      "source": [
        "print(X_train.shape, X_test.shape, X_val.shape)"
      ],
      "metadata": {
        "colab": {
          "base_uri": "https://localhost:8080/"
        },
        "id": "kGhDUOmo9vrv",
        "outputId": "1d2b8ebf-3c4c-4621-aceb-8b48f245050a"
      },
      "execution_count": 196,
      "outputs": [
        {
          "output_type": "stream",
          "name": "stdout",
          "text": [
            "(398400, 32, 32) (49800, 32, 32) (49800, 32, 32)\n"
          ]
        }
      ]
    },
    {
      "cell_type": "code",
      "source": [
        "np.unique(Y_train, return_counts = True)"
      ],
      "metadata": {
        "colab": {
          "base_uri": "https://localhost:8080/"
        },
        "id": "co-eqQz8DdM5",
        "outputId": "b5227e8b-85da-45ba-aafa-8290b83dbad5"
      },
      "execution_count": 197,
      "outputs": [
        {
          "output_type": "execute_result",
          "data": {
            "text/plain": [
              "(array([0., 1.], dtype=float32), array([199200, 199200]))"
            ]
          },
          "metadata": {},
          "execution_count": 197
        }
      ]
    },
    {
      "cell_type": "markdown",
      "source": [
        "## Model - Keras CNN"
      ],
      "metadata": {
        "id": "Q9LIGrYZ8blJ"
      }
    },
    {
      "cell_type": "markdown",
      "source": [
        "Built ResNet-15 architecture after going through the paper *'End-to-End Physics Event Classification with CMS Open Data'*.\n",
        "\n",
        "Removed BatchNorm and replaced MeanPooling with MaxPooling."
      ],
      "metadata": {
        "id": "dkTZw043M1qc"
      }
    },
    {
      "cell_type": "code",
      "source": [
        "def residual_block(x, filters, strides=(1, 1), kernel_size=(3, 3)):\n",
        "    \"\"\"Residual block for ResNet\"\"\"\n",
        "\n",
        "    shortcut = x\n",
        "    x = Conv2D(filters, kernel_size=kernel_size, strides=strides, padding='same')(x)\n",
        "    x = Activation('relu')(x)\n",
        "\n",
        "    x = Conv2D(filters, kernel_size=kernel_size, strides=(1, 1), padding='same')(x)\n",
        "\n",
        "    if strides != (1, 1) or shortcut.shape[-1] != filters:\n",
        "        shortcut = Conv2D(filters, kernel_size=(1, 1), strides=strides, padding='valid')(shortcut)\n",
        "\n",
        "    x = Add()([shortcut, x])\n",
        "    x = Activation('relu')(x)\n",
        "\n",
        "    return x\n",
        "\n",
        "def resnet15(input_shape, num_classes):\n",
        "    \"\"\"ResNet15 architecture\"\"\"\n",
        "\n",
        "    input_tensor = Input(shape=input_shape)\n",
        "\n",
        "    x = Conv2D(16, kernel_size=(3, 3), strides=(1, 1), padding='same')(input_tensor)\n",
        "    x = Activation('relu')(x)\n",
        "    x = MaxPooling2D(pool_size=(2, 2), strides=(2, 2), padding='same')(x)\n",
        "\n",
        "    for i in range(3):\n",
        "        filters = 16 * (2 ** i)\n",
        "        strides = (2, 2) if i != 0 else (1, 1)\n",
        "        x = residual_block(x, filters=filters, strides=strides)\n",
        "\n",
        "    x = Flatten()(x)\n",
        "    x = Dense(256, activation='relu')(x)\n",
        "    x = Dense(64, activation='relu')(x)\n",
        "    x = Dense(num_classes, activation='sigmoid')(x)\n",
        "\n",
        "    model = Model(inputs=input_tensor, outputs=x)\n",
        "    return model"
      ],
      "metadata": {
        "id": "4ApyqU2p9dF5"
      },
      "execution_count": 198,
      "outputs": []
    },
    {
      "cell_type": "code",
      "source": [
        "model_keras = resnet15((32,32,1), 1)\n",
        "model_keras.summary()"
      ],
      "metadata": {
        "colab": {
          "base_uri": "https://localhost:8080/"
        },
        "id": "beT40C5ERsOV",
        "outputId": "d9511913-814b-43a2-8cca-606f8fe00aa0"
      },
      "execution_count": 199,
      "outputs": [
        {
          "output_type": "stream",
          "name": "stdout",
          "text": [
            "Model: \"model_2\"\n",
            "__________________________________________________________________________________________________\n",
            " Layer (type)                   Output Shape         Param #     Connected to                     \n",
            "==================================================================================================\n",
            " input_3 (InputLayer)           [(None, 32, 32, 1)]  0           []                               \n",
            "                                                                                                  \n",
            " conv2d_18 (Conv2D)             (None, 32, 32, 16)   160         ['input_3[0][0]']                \n",
            "                                                                                                  \n",
            " activation_14 (Activation)     (None, 32, 32, 16)   0           ['conv2d_18[0][0]']              \n",
            "                                                                                                  \n",
            " max_pooling2d_2 (MaxPooling2D)  (None, 16, 16, 16)  0           ['activation_14[0][0]']          \n",
            "                                                                                                  \n",
            " conv2d_19 (Conv2D)             (None, 16, 16, 16)   2320        ['max_pooling2d_2[0][0]']        \n",
            "                                                                                                  \n",
            " activation_15 (Activation)     (None, 16, 16, 16)   0           ['conv2d_19[0][0]']              \n",
            "                                                                                                  \n",
            " conv2d_20 (Conv2D)             (None, 16, 16, 16)   2320        ['activation_15[0][0]']          \n",
            "                                                                                                  \n",
            " add_6 (Add)                    (None, 16, 16, 16)   0           ['max_pooling2d_2[0][0]',        \n",
            "                                                                  'conv2d_20[0][0]']              \n",
            "                                                                                                  \n",
            " activation_16 (Activation)     (None, 16, 16, 16)   0           ['add_6[0][0]']                  \n",
            "                                                                                                  \n",
            " conv2d_21 (Conv2D)             (None, 8, 8, 32)     4640        ['activation_16[0][0]']          \n",
            "                                                                                                  \n",
            " activation_17 (Activation)     (None, 8, 8, 32)     0           ['conv2d_21[0][0]']              \n",
            "                                                                                                  \n",
            " conv2d_23 (Conv2D)             (None, 8, 8, 32)     544         ['activation_16[0][0]']          \n",
            "                                                                                                  \n",
            " conv2d_22 (Conv2D)             (None, 8, 8, 32)     9248        ['activation_17[0][0]']          \n",
            "                                                                                                  \n",
            " add_7 (Add)                    (None, 8, 8, 32)     0           ['conv2d_23[0][0]',              \n",
            "                                                                  'conv2d_22[0][0]']              \n",
            "                                                                                                  \n",
            " activation_18 (Activation)     (None, 8, 8, 32)     0           ['add_7[0][0]']                  \n",
            "                                                                                                  \n",
            " conv2d_24 (Conv2D)             (None, 4, 4, 64)     18496       ['activation_18[0][0]']          \n",
            "                                                                                                  \n",
            " activation_19 (Activation)     (None, 4, 4, 64)     0           ['conv2d_24[0][0]']              \n",
            "                                                                                                  \n",
            " conv2d_26 (Conv2D)             (None, 4, 4, 64)     2112        ['activation_18[0][0]']          \n",
            "                                                                                                  \n",
            " conv2d_25 (Conv2D)             (None, 4, 4, 64)     36928       ['activation_19[0][0]']          \n",
            "                                                                                                  \n",
            " add_8 (Add)                    (None, 4, 4, 64)     0           ['conv2d_26[0][0]',              \n",
            "                                                                  'conv2d_25[0][0]']              \n",
            "                                                                                                  \n",
            " activation_20 (Activation)     (None, 4, 4, 64)     0           ['add_8[0][0]']                  \n",
            "                                                                                                  \n",
            " flatten_2 (Flatten)            (None, 1024)         0           ['activation_20[0][0]']          \n",
            "                                                                                                  \n",
            " dense_6 (Dense)                (None, 256)          262400      ['flatten_2[0][0]']              \n",
            "                                                                                                  \n",
            " dense_7 (Dense)                (None, 64)           16448       ['dense_6[0][0]']                \n",
            "                                                                                                  \n",
            " dense_8 (Dense)                (None, 1)            65          ['dense_7[0][0]']                \n",
            "                                                                                                  \n",
            "==================================================================================================\n",
            "Total params: 355,681\n",
            "Trainable params: 355,681\n",
            "Non-trainable params: 0\n",
            "__________________________________________________________________________________________________\n"
          ]
        }
      ]
    },
    {
      "cell_type": "markdown",
      "source": [
        "Adding a learning rate scheduler which makes the learning rate half after every 10 epochs."
      ],
      "metadata": {
        "id": "nsUlQOuRNd9L"
      }
    },
    {
      "cell_type": "code",
      "source": [
        "def scheduler(epoch, lr):\n",
        "    if epoch % 10 == 0 and epoch != 0:\n",
        "        lr = lr / 2\n",
        "    return lr\n",
        "\n",
        "lr_schedule = LearningRateScheduler(scheduler)"
      ],
      "metadata": {
        "id": "N74kRz42V8zU"
      },
      "execution_count": 200,
      "outputs": []
    },
    {
      "cell_type": "markdown",
      "source": [
        "### Training the Model"
      ],
      "metadata": {
        "id": "IfLOsSN3OVPy"
      }
    },
    {
      "cell_type": "markdown",
      "source": [
        "Set the optimiser and loss function. Evalutation metric is the ROC-AUC."
      ],
      "metadata": {
        "id": "ZekTcCvmNmZ6"
      }
    },
    {
      "cell_type": "code",
      "source": [
        "optimizer = tf.keras.optimizers.Adam(learning_rate = 5e-4)\n",
        "model_keras.compile(loss='binary_crossentropy', optimizer=optimizer, metrics=[tf.keras.metrics.AUC()])"
      ],
      "metadata": {
        "id": "i2dkUvivRvAl"
      },
      "execution_count": 201,
      "outputs": []
    },
    {
      "cell_type": "code",
      "source": [
        "# Chose the epochs and batch_size according to the paper\n",
        "\n",
        "model_keras.fit(X_train, Y_train, validation_data = (X_val, Y_val), epochs=60, batch_size=360, callbacks=[lr_schedule])"
      ],
      "metadata": {
        "colab": {
          "base_uri": "https://localhost:8080/"
        },
        "id": "xrpu7l5v-PxA",
        "outputId": "7e40a063-90c4-4031-e4b9-b8fa5e68a391"
      },
      "execution_count": 202,
      "outputs": [
        {
          "output_type": "stream",
          "name": "stdout",
          "text": [
            "Epoch 1/60\n",
            "1107/1107 [==============================] - 13s 9ms/step - loss: 0.6088 - auc_1: 0.7277 - val_loss: 0.5779 - val_auc_1: 0.7686 - lr: 5.0000e-04\n",
            "Epoch 2/60\n",
            "1107/1107 [==============================] - 9s 8ms/step - loss: 0.5746 - auc_1: 0.7682 - val_loss: 0.5719 - val_auc_1: 0.7755 - lr: 5.0000e-04\n",
            "Epoch 3/60\n",
            "1107/1107 [==============================] - 9s 8ms/step - loss: 0.5668 - auc_1: 0.7766 - val_loss: 0.5595 - val_auc_1: 0.7852 - lr: 5.0000e-04\n",
            "Epoch 4/60\n",
            "1107/1107 [==============================] - 9s 8ms/step - loss: 0.5618 - auc_1: 0.7817 - val_loss: 0.5559 - val_auc_1: 0.7879 - lr: 5.0000e-04\n",
            "Epoch 5/60\n",
            "1107/1107 [==============================] - 9s 8ms/step - loss: 0.5588 - auc_1: 0.7847 - val_loss: 0.5544 - val_auc_1: 0.7897 - lr: 5.0000e-04\n",
            "Epoch 6/60\n",
            "1107/1107 [==============================] - 9s 8ms/step - loss: 0.5554 - auc_1: 0.7879 - val_loss: 0.5506 - val_auc_1: 0.7932 - lr: 5.0000e-04\n",
            "Epoch 7/60\n",
            "1107/1107 [==============================] - 9s 8ms/step - loss: 0.5535 - auc_1: 0.7900 - val_loss: 0.5486 - val_auc_1: 0.7947 - lr: 5.0000e-04\n",
            "Epoch 8/60\n",
            "1107/1107 [==============================] - 9s 8ms/step - loss: 0.5524 - auc_1: 0.7909 - val_loss: 0.5555 - val_auc_1: 0.7939 - lr: 5.0000e-04\n",
            "Epoch 9/60\n",
            "1107/1107 [==============================] - 9s 8ms/step - loss: 0.5498 - auc_1: 0.7935 - val_loss: 0.5668 - val_auc_1: 0.7911 - lr: 5.0000e-04\n",
            "Epoch 10/60\n",
            "1107/1107 [==============================] - 9s 8ms/step - loss: 0.5482 - auc_1: 0.7950 - val_loss: 0.5477 - val_auc_1: 0.7972 - lr: 5.0000e-04\n",
            "Epoch 11/60\n",
            "1107/1107 [==============================] - 9s 8ms/step - loss: 0.5431 - auc_1: 0.7997 - val_loss: 0.5468 - val_auc_1: 0.7993 - lr: 2.5000e-04\n",
            "Epoch 12/60\n",
            "1107/1107 [==============================] - 9s 8ms/step - loss: 0.5417 - auc_1: 0.8009 - val_loss: 0.5479 - val_auc_1: 0.8006 - lr: 2.5000e-04\n",
            "Epoch 13/60\n",
            "1107/1107 [==============================] - 9s 8ms/step - loss: 0.5409 - auc_1: 0.8017 - val_loss: 0.5415 - val_auc_1: 0.8023 - lr: 2.5000e-04\n",
            "Epoch 14/60\n",
            "1107/1107 [==============================] - 9s 8ms/step - loss: 0.5397 - auc_1: 0.8027 - val_loss: 0.5405 - val_auc_1: 0.8021 - lr: 2.5000e-04\n",
            "Epoch 15/60\n",
            "1107/1107 [==============================] - 9s 8ms/step - loss: 0.5395 - auc_1: 0.8030 - val_loss: 0.5406 - val_auc_1: 0.8027 - lr: 2.5000e-04\n",
            "Epoch 16/60\n",
            "1107/1107 [==============================] - 9s 8ms/step - loss: 0.5388 - auc_1: 0.8037 - val_loss: 0.5399 - val_auc_1: 0.8046 - lr: 2.5000e-04\n",
            "Epoch 17/60\n",
            "1107/1107 [==============================] - 9s 8ms/step - loss: 0.5376 - auc_1: 0.8047 - val_loss: 0.5402 - val_auc_1: 0.8029 - lr: 2.5000e-04\n",
            "Epoch 18/60\n",
            "1107/1107 [==============================] - 10s 9ms/step - loss: 0.5369 - auc_1: 0.8053 - val_loss: 0.5408 - val_auc_1: 0.8019 - lr: 2.5000e-04\n",
            "Epoch 19/60\n",
            "1107/1107 [==============================] - 9s 8ms/step - loss: 0.5360 - auc_1: 0.8060 - val_loss: 0.5385 - val_auc_1: 0.8053 - lr: 2.5000e-04\n",
            "Epoch 20/60\n",
            "1107/1107 [==============================] - 9s 8ms/step - loss: 0.5359 - auc_1: 0.8062 - val_loss: 0.5422 - val_auc_1: 0.8035 - lr: 2.5000e-04\n",
            "Epoch 21/60\n",
            "1107/1107 [==============================] - 9s 9ms/step - loss: 0.5319 - auc_1: 0.8097 - val_loss: 0.5346 - val_auc_1: 0.8074 - lr: 1.2500e-04\n",
            "Epoch 22/60\n",
            "1107/1107 [==============================] - 9s 8ms/step - loss: 0.5312 - auc_1: 0.8103 - val_loss: 0.5347 - val_auc_1: 0.8079 - lr: 1.2500e-04\n",
            "Epoch 23/60\n",
            "1107/1107 [==============================] - 9s 8ms/step - loss: 0.5308 - auc_1: 0.8106 - val_loss: 0.5362 - val_auc_1: 0.8075 - lr: 1.2500e-04\n",
            "Epoch 24/60\n",
            "1107/1107 [==============================] - 9s 8ms/step - loss: 0.5303 - auc_1: 0.8111 - val_loss: 0.5364 - val_auc_1: 0.8068 - lr: 1.2500e-04\n",
            "Epoch 25/60\n",
            "1107/1107 [==============================] - 9s 8ms/step - loss: 0.5297 - auc_1: 0.8116 - val_loss: 0.5340 - val_auc_1: 0.8080 - lr: 1.2500e-04\n",
            "Epoch 26/60\n",
            "1107/1107 [==============================] - 9s 8ms/step - loss: 0.5299 - auc_1: 0.8114 - val_loss: 0.5332 - val_auc_1: 0.8087 - lr: 1.2500e-04\n",
            "Epoch 27/60\n",
            "1107/1107 [==============================] - 9s 8ms/step - loss: 0.5290 - auc_1: 0.8122 - val_loss: 0.5384 - val_auc_1: 0.8070 - lr: 1.2500e-04\n",
            "Epoch 28/60\n",
            "1107/1107 [==============================] - 9s 8ms/step - loss: 0.5289 - auc_1: 0.8124 - val_loss: 0.5336 - val_auc_1: 0.8081 - lr: 1.2500e-04\n",
            "Epoch 29/60\n",
            "1107/1107 [==============================] - 9s 8ms/step - loss: 0.5283 - auc_1: 0.8128 - val_loss: 0.5335 - val_auc_1: 0.8086 - lr: 1.2500e-04\n",
            "Epoch 30/60\n",
            "1107/1107 [==============================] - 9s 8ms/step - loss: 0.5282 - auc_1: 0.8129 - val_loss: 0.5330 - val_auc_1: 0.8089 - lr: 1.2500e-04\n",
            "Epoch 31/60\n",
            "1107/1107 [==============================] - 9s 8ms/step - loss: 0.5258 - auc_1: 0.8149 - val_loss: 0.5317 - val_auc_1: 0.8101 - lr: 6.2500e-05\n",
            "Epoch 32/60\n",
            "1107/1107 [==============================] - 9s 8ms/step - loss: 0.5253 - auc_1: 0.8153 - val_loss: 0.5316 - val_auc_1: 0.8104 - lr: 6.2500e-05\n",
            "Epoch 33/60\n",
            "1107/1107 [==============================] - 9s 8ms/step - loss: 0.5251 - auc_1: 0.8155 - val_loss: 0.5321 - val_auc_1: 0.8097 - lr: 6.2500e-05\n",
            "Epoch 34/60\n",
            "1107/1107 [==============================] - 9s 8ms/step - loss: 0.5247 - auc_1: 0.8159 - val_loss: 0.5310 - val_auc_1: 0.8105 - lr: 6.2500e-05\n",
            "Epoch 35/60\n",
            "1107/1107 [==============================] - 9s 8ms/step - loss: 0.5245 - auc_1: 0.8160 - val_loss: 0.5323 - val_auc_1: 0.8094 - lr: 6.2500e-05\n",
            "Epoch 36/60\n",
            "1107/1107 [==============================] - 9s 8ms/step - loss: 0.5241 - auc_1: 0.8163 - val_loss: 0.5316 - val_auc_1: 0.8101 - lr: 6.2500e-05\n",
            "Epoch 37/60\n",
            "1107/1107 [==============================] - 9s 8ms/step - loss: 0.5239 - auc_1: 0.8164 - val_loss: 0.5320 - val_auc_1: 0.8096 - lr: 6.2500e-05\n",
            "Epoch 38/60\n",
            "1107/1107 [==============================] - 9s 8ms/step - loss: 0.5238 - auc_1: 0.8166 - val_loss: 0.5320 - val_auc_1: 0.8097 - lr: 6.2500e-05\n",
            "Epoch 39/60\n",
            "1107/1107 [==============================] - 9s 8ms/step - loss: 0.5235 - auc_1: 0.8169 - val_loss: 0.5307 - val_auc_1: 0.8109 - lr: 6.2500e-05\n",
            "Epoch 40/60\n",
            "1107/1107 [==============================] - 9s 8ms/step - loss: 0.5234 - auc_1: 0.8170 - val_loss: 0.5317 - val_auc_1: 0.8102 - lr: 6.2500e-05\n",
            "Epoch 41/60\n",
            "1107/1107 [==============================] - 9s 8ms/step - loss: 0.5218 - auc_1: 0.8183 - val_loss: 0.5303 - val_auc_1: 0.8111 - lr: 3.1250e-05\n",
            "Epoch 42/60\n",
            "1107/1107 [==============================] - 9s 8ms/step - loss: 0.5215 - auc_1: 0.8186 - val_loss: 0.5312 - val_auc_1: 0.8108 - lr: 3.1250e-05\n",
            "Epoch 43/60\n",
            "1107/1107 [==============================] - 9s 8ms/step - loss: 0.5214 - auc_1: 0.8186 - val_loss: 0.5310 - val_auc_1: 0.8107 - lr: 3.1250e-05\n",
            "Epoch 44/60\n",
            "1107/1107 [==============================] - 9s 8ms/step - loss: 0.5212 - auc_1: 0.8187 - val_loss: 0.5315 - val_auc_1: 0.8108 - lr: 3.1250e-05\n",
            "Epoch 45/60\n",
            "1107/1107 [==============================] - 9s 8ms/step - loss: 0.5211 - auc_1: 0.8188 - val_loss: 0.5305 - val_auc_1: 0.8110 - lr: 3.1250e-05\n",
            "Epoch 46/60\n",
            "1107/1107 [==============================] - 9s 8ms/step - loss: 0.5210 - auc_1: 0.8190 - val_loss: 0.5315 - val_auc_1: 0.8109 - lr: 3.1250e-05\n",
            "Epoch 47/60\n",
            "1107/1107 [==============================] - 9s 8ms/step - loss: 0.5209 - auc_1: 0.8190 - val_loss: 0.5302 - val_auc_1: 0.8113 - lr: 3.1250e-05\n",
            "Epoch 48/60\n",
            "1107/1107 [==============================] - 9s 8ms/step - loss: 0.5206 - auc_1: 0.8193 - val_loss: 0.5306 - val_auc_1: 0.8109 - lr: 3.1250e-05\n",
            "Epoch 49/60\n",
            "1107/1107 [==============================] - 9s 8ms/step - loss: 0.5205 - auc_1: 0.8194 - val_loss: 0.5305 - val_auc_1: 0.8111 - lr: 3.1250e-05\n",
            "Epoch 50/60\n",
            "1107/1107 [==============================] - 9s 8ms/step - loss: 0.5204 - auc_1: 0.8194 - val_loss: 0.5304 - val_auc_1: 0.8110 - lr: 3.1250e-05\n",
            "Epoch 51/60\n",
            "1107/1107 [==============================] - 9s 8ms/step - loss: 0.5195 - auc_1: 0.8202 - val_loss: 0.5300 - val_auc_1: 0.8115 - lr: 1.5625e-05\n",
            "Epoch 52/60\n",
            "1107/1107 [==============================] - 9s 8ms/step - loss: 0.5194 - auc_1: 0.8203 - val_loss: 0.5299 - val_auc_1: 0.8115 - lr: 1.5625e-05\n",
            "Epoch 53/60\n",
            "1107/1107 [==============================] - 9s 8ms/step - loss: 0.5192 - auc_1: 0.8204 - val_loss: 0.5300 - val_auc_1: 0.8116 - lr: 1.5625e-05\n",
            "Epoch 54/60\n",
            "1107/1107 [==============================] - 9s 8ms/step - loss: 0.5192 - auc_1: 0.8205 - val_loss: 0.5306 - val_auc_1: 0.8110 - lr: 1.5625e-05\n",
            "Epoch 55/60\n",
            "1107/1107 [==============================] - 9s 8ms/step - loss: 0.5191 - auc_1: 0.8206 - val_loss: 0.5302 - val_auc_1: 0.8114 - lr: 1.5625e-05\n",
            "Epoch 56/60\n",
            "1107/1107 [==============================] - 9s 8ms/step - loss: 0.5190 - auc_1: 0.8206 - val_loss: 0.5302 - val_auc_1: 0.8114 - lr: 1.5625e-05\n",
            "Epoch 57/60\n",
            "1107/1107 [==============================] - 9s 8ms/step - loss: 0.5189 - auc_1: 0.8206 - val_loss: 0.5303 - val_auc_1: 0.8113 - lr: 1.5625e-05\n",
            "Epoch 58/60\n",
            "1107/1107 [==============================] - 9s 8ms/step - loss: 0.5188 - auc_1: 0.8207 - val_loss: 0.5303 - val_auc_1: 0.8113 - lr: 1.5625e-05\n",
            "Epoch 59/60\n",
            "1107/1107 [==============================] - 9s 8ms/step - loss: 0.5188 - auc_1: 0.8208 - val_loss: 0.5301 - val_auc_1: 0.8114 - lr: 1.5625e-05\n",
            "Epoch 60/60\n",
            "1107/1107 [==============================] - 9s 8ms/step - loss: 0.5187 - auc_1: 0.8209 - val_loss: 0.5302 - val_auc_1: 0.8112 - lr: 1.5625e-05\n"
          ]
        },
        {
          "output_type": "execute_result",
          "data": {
            "text/plain": [
              "<keras.callbacks.History at 0x7f4a6d8cb310>"
            ]
          },
          "metadata": {},
          "execution_count": 202
        }
      ]
    },
    {
      "cell_type": "markdown",
      "source": [
        "### Testing the Model"
      ],
      "metadata": {
        "id": "FqT3RGf5OXy2"
      }
    },
    {
      "cell_type": "code",
      "source": [
        "Y_pred = model_keras.predict(X_test)\n",
        "\n",
        "Y_probas = Y_pred.ravel()\n",
        "Y_abs = (Y_pred>0.5)"
      ],
      "metadata": {
        "colab": {
          "base_uri": "https://localhost:8080/"
        },
        "id": "9Exzrbu_F8x4",
        "outputId": "b1105e3a-878d-40c8-ebc0-8522eafa6da8"
      },
      "execution_count": 203,
      "outputs": [
        {
          "output_type": "stream",
          "name": "stdout",
          "text": [
            "1557/1557 [==============================] - 4s 2ms/step\n"
          ]
        }
      ]
    },
    {
      "cell_type": "markdown",
      "source": [
        "Calculating few metrics"
      ],
      "metadata": {
        "id": "RspByabuOmnX"
      }
    },
    {
      "cell_type": "code",
      "source": [
        "accuracy_keras = accuracy_score(Y_test, Y_abs)\n",
        "f1_keras = accuracy_score(Y_test, Y_abs)\n",
        "fpr_keras, tpr_keras, thresholds_keras = roc_curve(Y_test, Y_probas)\n",
        "auc_keras = auc(fpr_keras, tpr_keras)"
      ],
      "metadata": {
        "id": "5pUUoU7ZGM-g"
      },
      "execution_count": 204,
      "outputs": []
    },
    {
      "cell_type": "code",
      "source": [
        "print('RESULTS\\n')\n",
        "\n",
        "print(f'Testing Accuracy : {accuracy_keras:.3f}')\n",
        "print(f'F1 score : {f1_keras:.3f}')\n",
        "print(f'ROC-AUC : {auc_keras:.4f}')"
      ],
      "metadata": {
        "id": "UDoQ_SjFHAMr",
        "colab": {
          "base_uri": "https://localhost:8080/"
        },
        "outputId": "3c36c616-515a-413a-9c11-18e03d2a2c5f"
      },
      "execution_count": 205,
      "outputs": [
        {
          "output_type": "stream",
          "name": "stdout",
          "text": [
            "RESULTS\n",
            "\n",
            "Testing Accuracy : 0.737\n",
            "F1 score : 0.737\n",
            "ROC-AUC : 0.8078\n"
          ]
        }
      ]
    },
    {
      "cell_type": "markdown",
      "source": [
        "## Model - PyTorch CNN"
      ],
      "metadata": {
        "id": "vKTG5IeQI2KU"
      }
    },
    {
      "cell_type": "markdown",
      "source": [
        "### Creating Custom Dataset"
      ],
      "metadata": {
        "id": "mjeCBoidRxm_"
      }
    },
    {
      "cell_type": "code",
      "source": [
        "class MyDataset(Dataset):\n",
        "\n",
        "    \"\"\"\n",
        "    Custom dataset for Image dataset\n",
        "    \"\"\"\n",
        "\n",
        "    def __init__(self, X, y):\n",
        "\n",
        "      X = torch.from_numpy(X)\n",
        "      X = X.unsqueeze(-1)\n",
        "      self.X = X.permute(0, 3, 1, 2)\n",
        "      self.y = torch.from_numpy(y).squeeze().long()\n",
        "\n",
        "    def __len__(self):\n",
        "        return len(self.y)\n",
        "\n",
        "    def __getitem__(self, idx):\n",
        "      return self.X[idx], self.y[idx]"
      ],
      "metadata": {
        "id": "cMYSFJoKRzwq"
      },
      "execution_count": 206,
      "outputs": []
    },
    {
      "cell_type": "code",
      "source": [
        "train_dataset = MyDataset(X_train, Y_train)\n",
        "val_dataset = MyDataset(X_val, Y_val)\n",
        "test_dataset = MyDataset(X_test, Y_test)"
      ],
      "metadata": {
        "id": "HCtxJAkdTJX0"
      },
      "execution_count": 207,
      "outputs": []
    },
    {
      "cell_type": "markdown",
      "source": [
        "### Data Loaders"
      ],
      "metadata": {
        "id": "oByhhbcjUSAQ"
      }
    },
    {
      "cell_type": "code",
      "source": [
        "def get_data_loaders(train_dataset, val_dataset, test_dataset, batch_size=32):\n",
        "\n",
        "    \"\"\"\n",
        "    Function to create the DataLoaders for train-val-test data. \n",
        "    Can specify batch size. Default value is set to 32.\n",
        "    \"\"\"\n",
        "\n",
        "    # Shuffle=True for training data to get diversity in batches at each training epoch\n",
        "    train_loader = DataLoader(train_dataset, batch_size=batch_size, shuffle=True)\n",
        "    val_loader = DataLoader(val_dataset, batch_size=batch_size, shuffle=False)\n",
        "    test_loader = DataLoader(test_dataset, batch_size=batch_size, shuffle=False)\n",
        "\n",
        "    return train_loader, val_loader, test_loader\n",
        "\n",
        "train_loader, val_loader, test_loader = get_data_loaders(train_dataset, val_dataset, test_dataset, batch_size=360)"
      ],
      "metadata": {
        "id": "nJ62awGcUQAZ"
      },
      "execution_count": 209,
      "outputs": []
    },
    {
      "cell_type": "markdown",
      "source": [
        "Set Device"
      ],
      "metadata": {
        "id": "ZxDvPZGLVphx"
      }
    },
    {
      "cell_type": "code",
      "source": [
        "def get_device():\n",
        "    return torch.device('cuda' if torch.cuda.is_available() else 'cpu')"
      ],
      "metadata": {
        "id": "xQbEZf7dVuDB"
      },
      "execution_count": 210,
      "outputs": []
    },
    {
      "cell_type": "code",
      "source": [
        "device = get_device()\n",
        "print(device)"
      ],
      "metadata": {
        "colab": {
          "base_uri": "https://localhost:8080/"
        },
        "id": "LH1qKL4dVvkk",
        "outputId": "b2893e16-291c-490a-d5a2-ac72b554efa4"
      },
      "execution_count": 211,
      "outputs": [
        {
          "output_type": "stream",
          "name": "stdout",
          "text": [
            "cuda\n"
          ]
        }
      ]
    },
    {
      "cell_type": "markdown",
      "source": [
        "### Model Architecture"
      ],
      "metadata": {
        "id": "1Y-t_P89V0Sa"
      }
    },
    {
      "cell_type": "code",
      "source": [
        "class ResidualBlock(nn.Module):\n",
        "\n",
        "    \"\"\"Residual block for ResNet\"\"\"\n",
        "\n",
        "    def __init__(self, in_channels, out_channels, stride=(1, 1), kernel_size=(3, 3)):\n",
        "        super(ResidualBlock, self).__init__()\n",
        "        self.shortcut = nn.Identity()\n",
        "\n",
        "        if stride != (1, 1) or in_channels != out_channels:\n",
        "            self.shortcut = nn.Conv2d(in_channels, out_channels, kernel_size=(1, 1), stride=stride, bias=False)\n",
        "\n",
        "        self.conv1 = nn.Conv2d(in_channels, out_channels, kernel_size=kernel_size, stride=stride, padding=1, bias=False)\n",
        "        self.conv2 = nn.Conv2d(out_channels, out_channels, kernel_size=kernel_size, stride=1, padding=1, bias=False)\n",
        "\n",
        "    def forward(self, x):\n",
        "\n",
        "        shortcut = self.shortcut(x)\n",
        "\n",
        "        x = F.relu(self.conv1(x))\n",
        "        x = self.conv2(x)\n",
        "\n",
        "        x += shortcut\n",
        "        x = F.relu(x)\n",
        "\n",
        "        return x\n",
        "\n",
        "class ResNet15(nn.Module):\n",
        "\n",
        "    \"\"\"ResNet15 architecture\"\"\"\n",
        "\n",
        "    def __init__(self, in_channels = 1, num_classes = 2):\n",
        "        super(ResNet15, self).__init__()\n",
        "\n",
        "        self.conv1 = nn.Conv2d(in_channels, 16, kernel_size=(3, 3), stride=(1, 1), padding=1, bias=False)\n",
        "        self.pool1 = nn.MaxPool2d(kernel_size=(2, 2), stride=(2, 2))\n",
        "\n",
        "        self.layer1 = nn.Sequential(\n",
        "            ResidualBlock(16, 16),\n",
        "            ResidualBlock(16, 32, stride=(2, 2)),\n",
        "            ResidualBlock(32, 64, stride=(2, 2))\n",
        "        )\n",
        "\n",
        "        self.fc1 = nn.Linear(64 * 4 * 4, 256)\n",
        "        self.fc2 = nn.Linear(256, 64)\n",
        "        self.fc3 = nn.Linear(64, num_classes)\n",
        "\n",
        "    def forward(self, x):\n",
        "\n",
        "        x = F.relu(self.conv1(x))\n",
        "        x = self.pool1(x)\n",
        "        x = self.layer1(x)\n",
        "\n",
        "        x = x.view(x.size(0), -1)\n",
        "\n",
        "        x = F.relu(self.fc1(x))\n",
        "        x = F.relu(self.fc2(x))\n",
        "\n",
        "        x = self.fc3(x)\n",
        "        \n",
        "        return x"
      ],
      "metadata": {
        "id": "zTdOpl5RWA7k"
      },
      "execution_count": 212,
      "outputs": []
    },
    {
      "cell_type": "markdown",
      "source": [
        "Setup - \n",
        "1. Model Creation\n",
        "2. Setting Adam optimizer with learning rate scheduler\n",
        "3. Defining CrossEntropyLoss function"
      ],
      "metadata": {
        "id": "V1jKLhmxXJPj"
      }
    },
    {
      "cell_type": "code",
      "source": [
        "# Model\n",
        "model_pytorch = ResNet15()\n",
        "model_pytorch = model_pytorch.to(device)\n",
        "\n",
        "# Optimizer and Learning Rate Scheduler\n",
        "\n",
        "optimizer = optim.Adam(model_pytorch.parameters(), lr=5e-4)\n",
        "scheduler = StepLR(optimizer, step_size=10, gamma=0.5)\n",
        "\n",
        "# Loss Function\n",
        "\n",
        "criterion = torch.nn.CrossEntropyLoss()"
      ],
      "metadata": {
        "id": "SYSk7zZwXIe3"
      },
      "execution_count": 222,
      "outputs": []
    },
    {
      "cell_type": "code",
      "source": [
        "print(model_pytorch)"
      ],
      "metadata": {
        "id": "lTPTFkOrYAtj",
        "colab": {
          "base_uri": "https://localhost:8080/"
        },
        "outputId": "35057064-4e68-45e5-a517-911055b0c0f0"
      },
      "execution_count": 223,
      "outputs": [
        {
          "output_type": "stream",
          "name": "stdout",
          "text": [
            "ResNet15(\n",
            "  (conv1): Conv2d(1, 16, kernel_size=(3, 3), stride=(1, 1), padding=(1, 1), bias=False)\n",
            "  (pool1): MaxPool2d(kernel_size=(2, 2), stride=(2, 2), padding=0, dilation=1, ceil_mode=False)\n",
            "  (layer1): Sequential(\n",
            "    (0): ResidualBlock(\n",
            "      (shortcut): Identity()\n",
            "      (conv1): Conv2d(16, 16, kernel_size=(3, 3), stride=(1, 1), padding=(1, 1), bias=False)\n",
            "      (conv2): Conv2d(16, 16, kernel_size=(3, 3), stride=(1, 1), padding=(1, 1), bias=False)\n",
            "    )\n",
            "    (1): ResidualBlock(\n",
            "      (shortcut): Conv2d(16, 32, kernel_size=(1, 1), stride=(2, 2), bias=False)\n",
            "      (conv1): Conv2d(16, 32, kernel_size=(3, 3), stride=(2, 2), padding=(1, 1), bias=False)\n",
            "      (conv2): Conv2d(32, 32, kernel_size=(3, 3), stride=(1, 1), padding=(1, 1), bias=False)\n",
            "    )\n",
            "    (2): ResidualBlock(\n",
            "      (shortcut): Conv2d(32, 64, kernel_size=(1, 1), stride=(2, 2), bias=False)\n",
            "      (conv1): Conv2d(32, 64, kernel_size=(3, 3), stride=(2, 2), padding=(1, 1), bias=False)\n",
            "      (conv2): Conv2d(64, 64, kernel_size=(3, 3), stride=(1, 1), padding=(1, 1), bias=False)\n",
            "    )\n",
            "  )\n",
            "  (fc1): Linear(in_features=1024, out_features=256, bias=True)\n",
            "  (fc2): Linear(in_features=256, out_features=64, bias=True)\n",
            "  (fc3): Linear(in_features=64, out_features=2, bias=True)\n",
            ")\n"
          ]
        }
      ]
    },
    {
      "cell_type": "markdown",
      "source": [
        "### Training"
      ],
      "metadata": {
        "id": "QjySZZA1X_6R"
      }
    },
    {
      "cell_type": "code",
      "source": [
        "def train(model, device, loader, optimizer, criterion, scheduler):\n",
        "\n",
        "    model.train()\n",
        "    for data in tqdm(loader):  # Iterate in batches over the training dataset.\n",
        "        \n",
        "        X, y = data\n",
        "        X = X.to(device)\n",
        "        y = y.to(device)\n",
        "\n",
        "        out = model(X)  # Perform a single forward pass.\n",
        "\n",
        "        loss = criterion(out, y)  # Compute the loss.\n",
        "        loss.backward()  # Derive gradients.\n",
        "        optimizer.step()  # Update parameters based on gradients.\n",
        "        optimizer.zero_grad()  # Clear gradients.\n",
        "\n",
        "    scheduler.step()\n",
        "\n",
        "    lr = optimizer.param_groups[0]['lr']\n",
        "    print(f\"learning rate: {lr:.6f}\")\n",
        "\n",
        "    return model\n",
        "\n",
        "    \n",
        "def evaluate(model, device, loader):\n",
        "\n",
        "    model.eval()\n",
        "\n",
        "    y_true = []\n",
        "    y_probas = []\n",
        "\n",
        "    with torch.no_grad():\n",
        "      \n",
        "        for data in tqdm(loader):\n",
        "\n",
        "            X, y = data\n",
        "\n",
        "            X = X.to(device)\n",
        "            y = y.to(device)\n",
        "            \n",
        "            out = model(X)        \n",
        "            \n",
        "            y_true += y.cpu().numpy().tolist()\n",
        "            y_probas += out[:, 1].cpu().numpy().tolist()  # probability of class 1\n",
        "\n",
        "    # Calculating few metrics\n",
        "\n",
        "        fpr, tpr, thresholds = roc_curve(y_true, y_probas)\n",
        "        roc_auc = auc(fpr, tpr)\n",
        "\n",
        "        print(f'Val AUC : {roc_auc:.3f}\\n')\n",
        "\n"
      ],
      "metadata": {
        "id": "XZZJTV7jeuuQ"
      },
      "execution_count": 224,
      "outputs": []
    },
    {
      "cell_type": "code",
      "source": [
        "# Training Loop\n",
        "\n",
        "epochs = 60\n",
        "\n",
        "for epoch in range(epochs):\n",
        "\n",
        "  print(f'Epoch : {epoch+1} \\n')\n",
        "\n",
        "  model_pytorch = train(model_pytorch, device, train_loader, optimizer, criterion, scheduler)\n",
        "  evaluate(model_pytorch, device, val_loader)"
      ],
      "metadata": {
        "colab": {
          "base_uri": "https://localhost:8080/"
        },
        "id": "LgIdctS2fwhL",
        "outputId": "a11e3fd3-9433-438c-8983-8107098f836f"
      },
      "execution_count": 225,
      "outputs": [
        {
          "output_type": "stream",
          "name": "stdout",
          "text": [
            "Epoch : 1 \n",
            "\n"
          ]
        },
        {
          "output_type": "stream",
          "name": "stderr",
          "text": [
            "100%|██████████| 1107/1107 [00:11<00:00, 99.13it/s] \n"
          ]
        },
        {
          "output_type": "stream",
          "name": "stdout",
          "text": [
            "learning rate: 0.000500\n"
          ]
        },
        {
          "output_type": "stream",
          "name": "stderr",
          "text": [
            "100%|██████████| 139/139 [00:00<00:00, 201.67it/s]\n"
          ]
        },
        {
          "output_type": "stream",
          "name": "stdout",
          "text": [
            "Val AUC : 0.756\n",
            "\n",
            "Epoch : 2 \n",
            "\n"
          ]
        },
        {
          "output_type": "stream",
          "name": "stderr",
          "text": [
            "100%|██████████| 1107/1107 [00:11<00:00, 100.46it/s]\n"
          ]
        },
        {
          "output_type": "stream",
          "name": "stdout",
          "text": [
            "learning rate: 0.000500\n"
          ]
        },
        {
          "output_type": "stream",
          "name": "stderr",
          "text": [
            "100%|██████████| 139/139 [00:00<00:00, 205.41it/s]\n"
          ]
        },
        {
          "output_type": "stream",
          "name": "stdout",
          "text": [
            "Val AUC : 0.772\n",
            "\n",
            "Epoch : 3 \n",
            "\n"
          ]
        },
        {
          "output_type": "stream",
          "name": "stderr",
          "text": [
            "100%|██████████| 1107/1107 [00:10<00:00, 102.87it/s]\n"
          ]
        },
        {
          "output_type": "stream",
          "name": "stdout",
          "text": [
            "learning rate: 0.000500\n"
          ]
        },
        {
          "output_type": "stream",
          "name": "stderr",
          "text": [
            "100%|██████████| 139/139 [00:00<00:00, 205.80it/s]\n"
          ]
        },
        {
          "output_type": "stream",
          "name": "stdout",
          "text": [
            "Val AUC : 0.778\n",
            "\n",
            "Epoch : 4 \n",
            "\n"
          ]
        },
        {
          "output_type": "stream",
          "name": "stderr",
          "text": [
            "100%|██████████| 1107/1107 [00:10<00:00, 100.65it/s]\n"
          ]
        },
        {
          "output_type": "stream",
          "name": "stdout",
          "text": [
            "learning rate: 0.000500\n"
          ]
        },
        {
          "output_type": "stream",
          "name": "stderr",
          "text": [
            "100%|██████████| 139/139 [00:00<00:00, 203.95it/s]\n"
          ]
        },
        {
          "output_type": "stream",
          "name": "stdout",
          "text": [
            "Val AUC : 0.786\n",
            "\n",
            "Epoch : 5 \n",
            "\n"
          ]
        },
        {
          "output_type": "stream",
          "name": "stderr",
          "text": [
            "100%|██████████| 1107/1107 [00:11<00:00, 100.52it/s]\n"
          ]
        },
        {
          "output_type": "stream",
          "name": "stdout",
          "text": [
            "learning rate: 0.000500\n"
          ]
        },
        {
          "output_type": "stream",
          "name": "stderr",
          "text": [
            "100%|██████████| 139/139 [00:00<00:00, 205.48it/s]\n"
          ]
        },
        {
          "output_type": "stream",
          "name": "stdout",
          "text": [
            "Val AUC : 0.790\n",
            "\n",
            "Epoch : 6 \n",
            "\n"
          ]
        },
        {
          "output_type": "stream",
          "name": "stderr",
          "text": [
            "100%|██████████| 1107/1107 [00:11<00:00, 100.28it/s]\n"
          ]
        },
        {
          "output_type": "stream",
          "name": "stdout",
          "text": [
            "learning rate: 0.000500\n"
          ]
        },
        {
          "output_type": "stream",
          "name": "stderr",
          "text": [
            "100%|██████████| 139/139 [00:00<00:00, 206.72it/s]\n"
          ]
        },
        {
          "output_type": "stream",
          "name": "stdout",
          "text": [
            "Val AUC : 0.792\n",
            "\n",
            "Epoch : 7 \n",
            "\n"
          ]
        },
        {
          "output_type": "stream",
          "name": "stderr",
          "text": [
            "100%|██████████| 1107/1107 [00:11<00:00, 100.02it/s]\n"
          ]
        },
        {
          "output_type": "stream",
          "name": "stdout",
          "text": [
            "learning rate: 0.000500\n"
          ]
        },
        {
          "output_type": "stream",
          "name": "stderr",
          "text": [
            "100%|██████████| 139/139 [00:00<00:00, 205.04it/s]\n"
          ]
        },
        {
          "output_type": "stream",
          "name": "stdout",
          "text": [
            "Val AUC : 0.794\n",
            "\n",
            "Epoch : 8 \n",
            "\n"
          ]
        },
        {
          "output_type": "stream",
          "name": "stderr",
          "text": [
            "100%|██████████| 1107/1107 [00:10<00:00, 103.15it/s]\n"
          ]
        },
        {
          "output_type": "stream",
          "name": "stdout",
          "text": [
            "learning rate: 0.000500\n"
          ]
        },
        {
          "output_type": "stream",
          "name": "stderr",
          "text": [
            "100%|██████████| 139/139 [00:00<00:00, 206.86it/s]\n"
          ]
        },
        {
          "output_type": "stream",
          "name": "stdout",
          "text": [
            "Val AUC : 0.797\n",
            "\n",
            "Epoch : 9 \n",
            "\n"
          ]
        },
        {
          "output_type": "stream",
          "name": "stderr",
          "text": [
            "100%|██████████| 1107/1107 [00:11<00:00, 100.15it/s]\n"
          ]
        },
        {
          "output_type": "stream",
          "name": "stdout",
          "text": [
            "learning rate: 0.000500\n"
          ]
        },
        {
          "output_type": "stream",
          "name": "stderr",
          "text": [
            "100%|██████████| 139/139 [00:00<00:00, 200.73it/s]\n"
          ]
        },
        {
          "output_type": "stream",
          "name": "stdout",
          "text": [
            "Val AUC : 0.799\n",
            "\n",
            "Epoch : 10 \n",
            "\n"
          ]
        },
        {
          "output_type": "stream",
          "name": "stderr",
          "text": [
            "100%|██████████| 1107/1107 [00:11<00:00, 100.27it/s]\n"
          ]
        },
        {
          "output_type": "stream",
          "name": "stdout",
          "text": [
            "learning rate: 0.000250\n"
          ]
        },
        {
          "output_type": "stream",
          "name": "stderr",
          "text": [
            "100%|██████████| 139/139 [00:00<00:00, 202.73it/s]\n"
          ]
        },
        {
          "output_type": "stream",
          "name": "stdout",
          "text": [
            "Val AUC : 0.800\n",
            "\n",
            "Epoch : 11 \n",
            "\n"
          ]
        },
        {
          "output_type": "stream",
          "name": "stderr",
          "text": [
            "100%|██████████| 1107/1107 [00:10<00:00, 100.70it/s]\n"
          ]
        },
        {
          "output_type": "stream",
          "name": "stdout",
          "text": [
            "learning rate: 0.000250\n"
          ]
        },
        {
          "output_type": "stream",
          "name": "stderr",
          "text": [
            "100%|██████████| 139/139 [00:00<00:00, 206.45it/s]\n"
          ]
        },
        {
          "output_type": "stream",
          "name": "stdout",
          "text": [
            "Val AUC : 0.802\n",
            "\n",
            "Epoch : 12 \n",
            "\n"
          ]
        },
        {
          "output_type": "stream",
          "name": "stderr",
          "text": [
            "100%|██████████| 1107/1107 [00:10<00:00, 102.85it/s]\n"
          ]
        },
        {
          "output_type": "stream",
          "name": "stdout",
          "text": [
            "learning rate: 0.000250\n"
          ]
        },
        {
          "output_type": "stream",
          "name": "stderr",
          "text": [
            "100%|██████████| 139/139 [00:00<00:00, 156.39it/s]\n"
          ]
        },
        {
          "output_type": "stream",
          "name": "stdout",
          "text": [
            "Val AUC : 0.802\n",
            "\n",
            "Epoch : 13 \n",
            "\n"
          ]
        },
        {
          "output_type": "stream",
          "name": "stderr",
          "text": [
            "100%|██████████| 1107/1107 [00:10<00:00, 103.84it/s]\n"
          ]
        },
        {
          "output_type": "stream",
          "name": "stdout",
          "text": [
            "learning rate: 0.000250\n"
          ]
        },
        {
          "output_type": "stream",
          "name": "stderr",
          "text": [
            "100%|██████████| 139/139 [00:00<00:00, 204.68it/s]\n"
          ]
        },
        {
          "output_type": "stream",
          "name": "stdout",
          "text": [
            "Val AUC : 0.804\n",
            "\n",
            "Epoch : 14 \n",
            "\n"
          ]
        },
        {
          "output_type": "stream",
          "name": "stderr",
          "text": [
            "100%|██████████| 1107/1107 [00:10<00:00, 100.97it/s]\n"
          ]
        },
        {
          "output_type": "stream",
          "name": "stdout",
          "text": [
            "learning rate: 0.000250\n"
          ]
        },
        {
          "output_type": "stream",
          "name": "stderr",
          "text": [
            "100%|██████████| 139/139 [00:00<00:00, 205.58it/s]\n"
          ]
        },
        {
          "output_type": "stream",
          "name": "stdout",
          "text": [
            "Val AUC : 0.804\n",
            "\n",
            "Epoch : 15 \n",
            "\n"
          ]
        },
        {
          "output_type": "stream",
          "name": "stderr",
          "text": [
            "100%|██████████| 1107/1107 [00:10<00:00, 100.88it/s]\n"
          ]
        },
        {
          "output_type": "stream",
          "name": "stdout",
          "text": [
            "learning rate: 0.000250\n"
          ]
        },
        {
          "output_type": "stream",
          "name": "stderr",
          "text": [
            "100%|██████████| 139/139 [00:00<00:00, 199.27it/s]\n"
          ]
        },
        {
          "output_type": "stream",
          "name": "stdout",
          "text": [
            "Val AUC : 0.805\n",
            "\n",
            "Epoch : 16 \n",
            "\n"
          ]
        },
        {
          "output_type": "stream",
          "name": "stderr",
          "text": [
            "100%|██████████| 1107/1107 [00:11<00:00, 100.44it/s]\n"
          ]
        },
        {
          "output_type": "stream",
          "name": "stdout",
          "text": [
            "learning rate: 0.000250\n"
          ]
        },
        {
          "output_type": "stream",
          "name": "stderr",
          "text": [
            "100%|██████████| 139/139 [00:00<00:00, 202.14it/s]\n"
          ]
        },
        {
          "output_type": "stream",
          "name": "stdout",
          "text": [
            "Val AUC : 0.805\n",
            "\n",
            "Epoch : 17 \n",
            "\n"
          ]
        },
        {
          "output_type": "stream",
          "name": "stderr",
          "text": [
            "100%|██████████| 1107/1107 [00:10<00:00, 102.07it/s]\n"
          ]
        },
        {
          "output_type": "stream",
          "name": "stdout",
          "text": [
            "learning rate: 0.000250\n"
          ]
        },
        {
          "output_type": "stream",
          "name": "stderr",
          "text": [
            "100%|██████████| 139/139 [00:00<00:00, 159.85it/s]\n"
          ]
        },
        {
          "output_type": "stream",
          "name": "stdout",
          "text": [
            "Val AUC : 0.804\n",
            "\n",
            "Epoch : 18 \n",
            "\n"
          ]
        },
        {
          "output_type": "stream",
          "name": "stderr",
          "text": [
            "100%|██████████| 1107/1107 [00:10<00:00, 102.50it/s]\n"
          ]
        },
        {
          "output_type": "stream",
          "name": "stdout",
          "text": [
            "learning rate: 0.000250\n"
          ]
        },
        {
          "output_type": "stream",
          "name": "stderr",
          "text": [
            "100%|██████████| 139/139 [00:00<00:00, 204.26it/s]\n"
          ]
        },
        {
          "output_type": "stream",
          "name": "stdout",
          "text": [
            "Val AUC : 0.806\n",
            "\n",
            "Epoch : 19 \n",
            "\n"
          ]
        },
        {
          "output_type": "stream",
          "name": "stderr",
          "text": [
            "100%|██████████| 1107/1107 [00:10<00:00, 101.63it/s]\n"
          ]
        },
        {
          "output_type": "stream",
          "name": "stdout",
          "text": [
            "learning rate: 0.000250\n"
          ]
        },
        {
          "output_type": "stream",
          "name": "stderr",
          "text": [
            "100%|██████████| 139/139 [00:00<00:00, 205.32it/s]\n"
          ]
        },
        {
          "output_type": "stream",
          "name": "stdout",
          "text": [
            "Val AUC : 0.806\n",
            "\n",
            "Epoch : 20 \n",
            "\n"
          ]
        },
        {
          "output_type": "stream",
          "name": "stderr",
          "text": [
            "100%|██████████| 1107/1107 [00:10<00:00, 100.71it/s]\n"
          ]
        },
        {
          "output_type": "stream",
          "name": "stdout",
          "text": [
            "learning rate: 0.000125\n"
          ]
        },
        {
          "output_type": "stream",
          "name": "stderr",
          "text": [
            "100%|██████████| 139/139 [00:00<00:00, 206.76it/s]\n"
          ]
        },
        {
          "output_type": "stream",
          "name": "stdout",
          "text": [
            "Val AUC : 0.807\n",
            "\n",
            "Epoch : 21 \n",
            "\n"
          ]
        },
        {
          "output_type": "stream",
          "name": "stderr",
          "text": [
            "100%|██████████| 1107/1107 [00:10<00:00, 101.02it/s]\n"
          ]
        },
        {
          "output_type": "stream",
          "name": "stdout",
          "text": [
            "learning rate: 0.000125\n"
          ]
        },
        {
          "output_type": "stream",
          "name": "stderr",
          "text": [
            "100%|██████████| 139/139 [00:00<00:00, 207.26it/s]\n"
          ]
        },
        {
          "output_type": "stream",
          "name": "stdout",
          "text": [
            "Val AUC : 0.808\n",
            "\n",
            "Epoch : 22 \n",
            "\n"
          ]
        },
        {
          "output_type": "stream",
          "name": "stderr",
          "text": [
            "100%|██████████| 1107/1107 [00:10<00:00, 102.89it/s]\n"
          ]
        },
        {
          "output_type": "stream",
          "name": "stdout",
          "text": [
            "learning rate: 0.000125\n"
          ]
        },
        {
          "output_type": "stream",
          "name": "stderr",
          "text": [
            "100%|██████████| 139/139 [00:00<00:00, 154.47it/s]\n"
          ]
        },
        {
          "output_type": "stream",
          "name": "stdout",
          "text": [
            "Val AUC : 0.808\n",
            "\n",
            "Epoch : 23 \n",
            "\n"
          ]
        },
        {
          "output_type": "stream",
          "name": "stderr",
          "text": [
            "100%|██████████| 1107/1107 [00:10<00:00, 102.35it/s]\n"
          ]
        },
        {
          "output_type": "stream",
          "name": "stdout",
          "text": [
            "learning rate: 0.000125\n"
          ]
        },
        {
          "output_type": "stream",
          "name": "stderr",
          "text": [
            "100%|██████████| 139/139 [00:00<00:00, 204.28it/s]\n"
          ]
        },
        {
          "output_type": "stream",
          "name": "stdout",
          "text": [
            "Val AUC : 0.808\n",
            "\n",
            "Epoch : 24 \n",
            "\n"
          ]
        },
        {
          "output_type": "stream",
          "name": "stderr",
          "text": [
            "100%|██████████| 1107/1107 [00:11<00:00, 100.62it/s]\n"
          ]
        },
        {
          "output_type": "stream",
          "name": "stdout",
          "text": [
            "learning rate: 0.000125\n"
          ]
        },
        {
          "output_type": "stream",
          "name": "stderr",
          "text": [
            "100%|██████████| 139/139 [00:00<00:00, 205.96it/s]\n"
          ]
        },
        {
          "output_type": "stream",
          "name": "stdout",
          "text": [
            "Val AUC : 0.808\n",
            "\n",
            "Epoch : 25 \n",
            "\n"
          ]
        },
        {
          "output_type": "stream",
          "name": "stderr",
          "text": [
            "100%|██████████| 1107/1107 [00:11<00:00, 99.88it/s] \n"
          ]
        },
        {
          "output_type": "stream",
          "name": "stdout",
          "text": [
            "learning rate: 0.000125\n"
          ]
        },
        {
          "output_type": "stream",
          "name": "stderr",
          "text": [
            "100%|██████████| 139/139 [00:00<00:00, 200.85it/s]\n"
          ]
        },
        {
          "output_type": "stream",
          "name": "stdout",
          "text": [
            "Val AUC : 0.807\n",
            "\n",
            "Epoch : 26 \n",
            "\n"
          ]
        },
        {
          "output_type": "stream",
          "name": "stderr",
          "text": [
            "100%|██████████| 1107/1107 [00:10<00:00, 101.02it/s]\n"
          ]
        },
        {
          "output_type": "stream",
          "name": "stdout",
          "text": [
            "learning rate: 0.000125\n"
          ]
        },
        {
          "output_type": "stream",
          "name": "stderr",
          "text": [
            "100%|██████████| 139/139 [00:00<00:00, 206.90it/s]\n"
          ]
        },
        {
          "output_type": "stream",
          "name": "stdout",
          "text": [
            "Val AUC : 0.808\n",
            "\n",
            "Epoch : 27 \n",
            "\n"
          ]
        },
        {
          "output_type": "stream",
          "name": "stderr",
          "text": [
            "100%|██████████| 1107/1107 [00:10<00:00, 102.45it/s]\n"
          ]
        },
        {
          "output_type": "stream",
          "name": "stdout",
          "text": [
            "learning rate: 0.000125\n"
          ]
        },
        {
          "output_type": "stream",
          "name": "stderr",
          "text": [
            "100%|██████████| 139/139 [00:00<00:00, 205.64it/s]\n"
          ]
        },
        {
          "output_type": "stream",
          "name": "stdout",
          "text": [
            "Val AUC : 0.809\n",
            "\n",
            "Epoch : 28 \n",
            "\n"
          ]
        },
        {
          "output_type": "stream",
          "name": "stderr",
          "text": [
            "100%|██████████| 1107/1107 [00:10<00:00, 101.10it/s]\n"
          ]
        },
        {
          "output_type": "stream",
          "name": "stdout",
          "text": [
            "learning rate: 0.000125\n"
          ]
        },
        {
          "output_type": "stream",
          "name": "stderr",
          "text": [
            "100%|██████████| 139/139 [00:00<00:00, 204.57it/s]\n"
          ]
        },
        {
          "output_type": "stream",
          "name": "stdout",
          "text": [
            "Val AUC : 0.809\n",
            "\n",
            "Epoch : 29 \n",
            "\n"
          ]
        },
        {
          "output_type": "stream",
          "name": "stderr",
          "text": [
            "100%|██████████| 1107/1107 [00:10<00:00, 101.13it/s]\n"
          ]
        },
        {
          "output_type": "stream",
          "name": "stdout",
          "text": [
            "learning rate: 0.000125\n"
          ]
        },
        {
          "output_type": "stream",
          "name": "stderr",
          "text": [
            "100%|██████████| 139/139 [00:00<00:00, 203.78it/s]\n"
          ]
        },
        {
          "output_type": "stream",
          "name": "stdout",
          "text": [
            "Val AUC : 0.808\n",
            "\n",
            "Epoch : 30 \n",
            "\n"
          ]
        },
        {
          "output_type": "stream",
          "name": "stderr",
          "text": [
            "100%|██████████| 1107/1107 [00:11<00:00, 99.62it/s]\n"
          ]
        },
        {
          "output_type": "stream",
          "name": "stdout",
          "text": [
            "learning rate: 0.000063\n"
          ]
        },
        {
          "output_type": "stream",
          "name": "stderr",
          "text": [
            "100%|██████████| 139/139 [00:00<00:00, 205.61it/s]\n"
          ]
        },
        {
          "output_type": "stream",
          "name": "stdout",
          "text": [
            "Val AUC : 0.809\n",
            "\n",
            "Epoch : 31 \n",
            "\n"
          ]
        },
        {
          "output_type": "stream",
          "name": "stderr",
          "text": [
            "100%|██████████| 1107/1107 [00:10<00:00, 100.83it/s]\n"
          ]
        },
        {
          "output_type": "stream",
          "name": "stdout",
          "text": [
            "learning rate: 0.000063\n"
          ]
        },
        {
          "output_type": "stream",
          "name": "stderr",
          "text": [
            "100%|██████████| 139/139 [00:00<00:00, 202.87it/s]\n"
          ]
        },
        {
          "output_type": "stream",
          "name": "stdout",
          "text": [
            "Val AUC : 0.809\n",
            "\n",
            "Epoch : 32 \n",
            "\n"
          ]
        },
        {
          "output_type": "stream",
          "name": "stderr",
          "text": [
            "100%|██████████| 1107/1107 [00:10<00:00, 102.98it/s]\n"
          ]
        },
        {
          "output_type": "stream",
          "name": "stdout",
          "text": [
            "learning rate: 0.000063\n"
          ]
        },
        {
          "output_type": "stream",
          "name": "stderr",
          "text": [
            "100%|██████████| 139/139 [00:00<00:00, 205.48it/s]\n"
          ]
        },
        {
          "output_type": "stream",
          "name": "stdout",
          "text": [
            "Val AUC : 0.809\n",
            "\n",
            "Epoch : 33 \n",
            "\n"
          ]
        },
        {
          "output_type": "stream",
          "name": "stderr",
          "text": [
            "100%|██████████| 1107/1107 [00:10<00:00, 100.84it/s]\n"
          ]
        },
        {
          "output_type": "stream",
          "name": "stdout",
          "text": [
            "learning rate: 0.000063\n"
          ]
        },
        {
          "output_type": "stream",
          "name": "stderr",
          "text": [
            "100%|██████████| 139/139 [00:00<00:00, 208.02it/s]\n"
          ]
        },
        {
          "output_type": "stream",
          "name": "stdout",
          "text": [
            "Val AUC : 0.808\n",
            "\n",
            "Epoch : 34 \n",
            "\n"
          ]
        },
        {
          "output_type": "stream",
          "name": "stderr",
          "text": [
            "100%|██████████| 1107/1107 [00:10<00:00, 101.18it/s]\n"
          ]
        },
        {
          "output_type": "stream",
          "name": "stdout",
          "text": [
            "learning rate: 0.000063\n"
          ]
        },
        {
          "output_type": "stream",
          "name": "stderr",
          "text": [
            "100%|██████████| 139/139 [00:00<00:00, 203.55it/s]\n"
          ]
        },
        {
          "output_type": "stream",
          "name": "stdout",
          "text": [
            "Val AUC : 0.809\n",
            "\n",
            "Epoch : 35 \n",
            "\n"
          ]
        },
        {
          "output_type": "stream",
          "name": "stderr",
          "text": [
            "100%|██████████| 1107/1107 [00:10<00:00, 100.94it/s]\n"
          ]
        },
        {
          "output_type": "stream",
          "name": "stdout",
          "text": [
            "learning rate: 0.000063\n"
          ]
        },
        {
          "output_type": "stream",
          "name": "stderr",
          "text": [
            "100%|██████████| 139/139 [00:00<00:00, 206.17it/s]\n"
          ]
        },
        {
          "output_type": "stream",
          "name": "stdout",
          "text": [
            "Val AUC : 0.810\n",
            "\n",
            "Epoch : 36 \n",
            "\n"
          ]
        },
        {
          "output_type": "stream",
          "name": "stderr",
          "text": [
            "100%|██████████| 1107/1107 [00:10<00:00, 100.81it/s]\n"
          ]
        },
        {
          "output_type": "stream",
          "name": "stdout",
          "text": [
            "learning rate: 0.000063\n"
          ]
        },
        {
          "output_type": "stream",
          "name": "stderr",
          "text": [
            "100%|██████████| 139/139 [00:00<00:00, 203.23it/s]\n"
          ]
        },
        {
          "output_type": "stream",
          "name": "stdout",
          "text": [
            "Val AUC : 0.808\n",
            "\n",
            "Epoch : 37 \n",
            "\n"
          ]
        },
        {
          "output_type": "stream",
          "name": "stderr",
          "text": [
            "100%|██████████| 1107/1107 [00:10<00:00, 102.98it/s]\n"
          ]
        },
        {
          "output_type": "stream",
          "name": "stdout",
          "text": [
            "learning rate: 0.000063\n"
          ]
        },
        {
          "output_type": "stream",
          "name": "stderr",
          "text": [
            "100%|██████████| 139/139 [00:00<00:00, 205.67it/s]\n"
          ]
        },
        {
          "output_type": "stream",
          "name": "stdout",
          "text": [
            "Val AUC : 0.809\n",
            "\n",
            "Epoch : 38 \n",
            "\n"
          ]
        },
        {
          "output_type": "stream",
          "name": "stderr",
          "text": [
            "100%|██████████| 1107/1107 [00:10<00:00, 101.31it/s]\n"
          ]
        },
        {
          "output_type": "stream",
          "name": "stdout",
          "text": [
            "learning rate: 0.000063\n"
          ]
        },
        {
          "output_type": "stream",
          "name": "stderr",
          "text": [
            "100%|██████████| 139/139 [00:00<00:00, 205.78it/s]\n"
          ]
        },
        {
          "output_type": "stream",
          "name": "stdout",
          "text": [
            "Val AUC : 0.809\n",
            "\n",
            "Epoch : 39 \n",
            "\n"
          ]
        },
        {
          "output_type": "stream",
          "name": "stderr",
          "text": [
            "100%|██████████| 1107/1107 [00:11<00:00, 100.19it/s]\n"
          ]
        },
        {
          "output_type": "stream",
          "name": "stdout",
          "text": [
            "learning rate: 0.000063\n"
          ]
        },
        {
          "output_type": "stream",
          "name": "stderr",
          "text": [
            "100%|██████████| 139/139 [00:00<00:00, 202.47it/s]\n"
          ]
        },
        {
          "output_type": "stream",
          "name": "stdout",
          "text": [
            "Val AUC : 0.809\n",
            "\n",
            "Epoch : 40 \n",
            "\n"
          ]
        },
        {
          "output_type": "stream",
          "name": "stderr",
          "text": [
            "100%|██████████| 1107/1107 [00:10<00:00, 100.73it/s]\n"
          ]
        },
        {
          "output_type": "stream",
          "name": "stdout",
          "text": [
            "learning rate: 0.000031\n"
          ]
        },
        {
          "output_type": "stream",
          "name": "stderr",
          "text": [
            "100%|██████████| 139/139 [00:00<00:00, 201.12it/s]\n"
          ]
        },
        {
          "output_type": "stream",
          "name": "stdout",
          "text": [
            "Val AUC : 0.809\n",
            "\n",
            "Epoch : 41 \n",
            "\n"
          ]
        },
        {
          "output_type": "stream",
          "name": "stderr",
          "text": [
            "100%|██████████| 1107/1107 [00:10<00:00, 101.63it/s]\n"
          ]
        },
        {
          "output_type": "stream",
          "name": "stdout",
          "text": [
            "learning rate: 0.000031\n"
          ]
        },
        {
          "output_type": "stream",
          "name": "stderr",
          "text": [
            "100%|██████████| 139/139 [00:00<00:00, 157.03it/s]\n"
          ]
        },
        {
          "output_type": "stream",
          "name": "stdout",
          "text": [
            "Val AUC : 0.810\n",
            "\n",
            "Epoch : 42 \n",
            "\n"
          ]
        },
        {
          "output_type": "stream",
          "name": "stderr",
          "text": [
            "100%|██████████| 1107/1107 [00:10<00:00, 101.94it/s]\n"
          ]
        },
        {
          "output_type": "stream",
          "name": "stdout",
          "text": [
            "learning rate: 0.000031\n"
          ]
        },
        {
          "output_type": "stream",
          "name": "stderr",
          "text": [
            "100%|██████████| 139/139 [00:00<00:00, 203.47it/s]\n"
          ]
        },
        {
          "output_type": "stream",
          "name": "stdout",
          "text": [
            "Val AUC : 0.810\n",
            "\n",
            "Epoch : 43 \n",
            "\n"
          ]
        },
        {
          "output_type": "stream",
          "name": "stderr",
          "text": [
            "100%|██████████| 1107/1107 [00:10<00:00, 101.24it/s]\n"
          ]
        },
        {
          "output_type": "stream",
          "name": "stdout",
          "text": [
            "learning rate: 0.000031\n"
          ]
        },
        {
          "output_type": "stream",
          "name": "stderr",
          "text": [
            "100%|██████████| 139/139 [00:00<00:00, 205.57it/s]\n"
          ]
        },
        {
          "output_type": "stream",
          "name": "stdout",
          "text": [
            "Val AUC : 0.810\n",
            "\n",
            "Epoch : 44 \n",
            "\n"
          ]
        },
        {
          "output_type": "stream",
          "name": "stderr",
          "text": [
            "100%|██████████| 1107/1107 [00:11<00:00, 100.35it/s]\n"
          ]
        },
        {
          "output_type": "stream",
          "name": "stdout",
          "text": [
            "learning rate: 0.000031\n"
          ]
        },
        {
          "output_type": "stream",
          "name": "stderr",
          "text": [
            "100%|██████████| 139/139 [00:00<00:00, 200.74it/s]\n"
          ]
        },
        {
          "output_type": "stream",
          "name": "stdout",
          "text": [
            "Val AUC : 0.810\n",
            "\n",
            "Epoch : 45 \n",
            "\n"
          ]
        },
        {
          "output_type": "stream",
          "name": "stderr",
          "text": [
            "100%|██████████| 1107/1107 [00:10<00:00, 100.88it/s]\n"
          ]
        },
        {
          "output_type": "stream",
          "name": "stdout",
          "text": [
            "learning rate: 0.000031\n"
          ]
        },
        {
          "output_type": "stream",
          "name": "stderr",
          "text": [
            "100%|██████████| 139/139 [00:00<00:00, 203.65it/s]\n"
          ]
        },
        {
          "output_type": "stream",
          "name": "stdout",
          "text": [
            "Val AUC : 0.810\n",
            "\n",
            "Epoch : 46 \n",
            "\n"
          ]
        },
        {
          "output_type": "stream",
          "name": "stderr",
          "text": [
            "100%|██████████| 1107/1107 [00:10<00:00, 101.49it/s]\n"
          ]
        },
        {
          "output_type": "stream",
          "name": "stdout",
          "text": [
            "learning rate: 0.000031\n"
          ]
        },
        {
          "output_type": "stream",
          "name": "stderr",
          "text": [
            "100%|██████████| 139/139 [00:00<00:00, 155.46it/s]\n"
          ]
        },
        {
          "output_type": "stream",
          "name": "stdout",
          "text": [
            "Val AUC : 0.810\n",
            "\n",
            "Epoch : 47 \n",
            "\n"
          ]
        },
        {
          "output_type": "stream",
          "name": "stderr",
          "text": [
            "100%|██████████| 1107/1107 [00:10<00:00, 102.22it/s]\n"
          ]
        },
        {
          "output_type": "stream",
          "name": "stdout",
          "text": [
            "learning rate: 0.000031\n"
          ]
        },
        {
          "output_type": "stream",
          "name": "stderr",
          "text": [
            "100%|██████████| 139/139 [00:00<00:00, 202.54it/s]\n"
          ]
        },
        {
          "output_type": "stream",
          "name": "stdout",
          "text": [
            "Val AUC : 0.810\n",
            "\n",
            "Epoch : 48 \n",
            "\n"
          ]
        },
        {
          "output_type": "stream",
          "name": "stderr",
          "text": [
            "100%|██████████| 1107/1107 [00:10<00:00, 101.11it/s]\n"
          ]
        },
        {
          "output_type": "stream",
          "name": "stdout",
          "text": [
            "learning rate: 0.000031\n"
          ]
        },
        {
          "output_type": "stream",
          "name": "stderr",
          "text": [
            "100%|██████████| 139/139 [00:00<00:00, 205.37it/s]\n"
          ]
        },
        {
          "output_type": "stream",
          "name": "stdout",
          "text": [
            "Val AUC : 0.809\n",
            "\n",
            "Epoch : 49 \n",
            "\n"
          ]
        },
        {
          "output_type": "stream",
          "name": "stderr",
          "text": [
            "100%|██████████| 1107/1107 [00:11<00:00, 100.52it/s]\n"
          ]
        },
        {
          "output_type": "stream",
          "name": "stdout",
          "text": [
            "learning rate: 0.000031\n"
          ]
        },
        {
          "output_type": "stream",
          "name": "stderr",
          "text": [
            "100%|██████████| 139/139 [00:00<00:00, 202.88it/s]\n"
          ]
        },
        {
          "output_type": "stream",
          "name": "stdout",
          "text": [
            "Val AUC : 0.810\n",
            "\n",
            "Epoch : 50 \n",
            "\n"
          ]
        },
        {
          "output_type": "stream",
          "name": "stderr",
          "text": [
            "100%|██████████| 1107/1107 [00:10<00:00, 101.49it/s]\n"
          ]
        },
        {
          "output_type": "stream",
          "name": "stdout",
          "text": [
            "learning rate: 0.000016\n"
          ]
        },
        {
          "output_type": "stream",
          "name": "stderr",
          "text": [
            "100%|██████████| 139/139 [00:00<00:00, 203.28it/s]\n"
          ]
        },
        {
          "output_type": "stream",
          "name": "stdout",
          "text": [
            "Val AUC : 0.809\n",
            "\n",
            "Epoch : 51 \n",
            "\n"
          ]
        },
        {
          "output_type": "stream",
          "name": "stderr",
          "text": [
            "100%|██████████| 1107/1107 [00:10<00:00, 102.11it/s]\n"
          ]
        },
        {
          "output_type": "stream",
          "name": "stdout",
          "text": [
            "learning rate: 0.000016\n"
          ]
        },
        {
          "output_type": "stream",
          "name": "stderr",
          "text": [
            "100%|██████████| 139/139 [00:00<00:00, 203.65it/s]\n"
          ]
        },
        {
          "output_type": "stream",
          "name": "stdout",
          "text": [
            "Val AUC : 0.810\n",
            "\n",
            "Epoch : 52 \n",
            "\n"
          ]
        },
        {
          "output_type": "stream",
          "name": "stderr",
          "text": [
            "100%|██████████| 1107/1107 [00:10<00:00, 100.84it/s]\n"
          ]
        },
        {
          "output_type": "stream",
          "name": "stdout",
          "text": [
            "learning rate: 0.000016\n"
          ]
        },
        {
          "output_type": "stream",
          "name": "stderr",
          "text": [
            "100%|██████████| 139/139 [00:00<00:00, 203.47it/s]\n"
          ]
        },
        {
          "output_type": "stream",
          "name": "stdout",
          "text": [
            "Val AUC : 0.809\n",
            "\n",
            "Epoch : 53 \n",
            "\n"
          ]
        },
        {
          "output_type": "stream",
          "name": "stderr",
          "text": [
            "100%|██████████| 1107/1107 [00:10<00:00, 101.00it/s]\n"
          ]
        },
        {
          "output_type": "stream",
          "name": "stdout",
          "text": [
            "learning rate: 0.000016\n"
          ]
        },
        {
          "output_type": "stream",
          "name": "stderr",
          "text": [
            "100%|██████████| 139/139 [00:00<00:00, 204.79it/s]\n"
          ]
        },
        {
          "output_type": "stream",
          "name": "stdout",
          "text": [
            "Val AUC : 0.810\n",
            "\n",
            "Epoch : 54 \n",
            "\n"
          ]
        },
        {
          "output_type": "stream",
          "name": "stderr",
          "text": [
            "100%|██████████| 1107/1107 [00:10<00:00, 100.98it/s]\n"
          ]
        },
        {
          "output_type": "stream",
          "name": "stdout",
          "text": [
            "learning rate: 0.000016\n"
          ]
        },
        {
          "output_type": "stream",
          "name": "stderr",
          "text": [
            "100%|██████████| 139/139 [00:00<00:00, 206.00it/s]\n"
          ]
        },
        {
          "output_type": "stream",
          "name": "stdout",
          "text": [
            "Val AUC : 0.810\n",
            "\n",
            "Epoch : 55 \n",
            "\n"
          ]
        },
        {
          "output_type": "stream",
          "name": "stderr",
          "text": [
            "100%|██████████| 1107/1107 [00:11<00:00, 99.40it/s]\n"
          ]
        },
        {
          "output_type": "stream",
          "name": "stdout",
          "text": [
            "learning rate: 0.000016\n"
          ]
        },
        {
          "output_type": "stream",
          "name": "stderr",
          "text": [
            "100%|██████████| 139/139 [00:00<00:00, 202.12it/s]\n"
          ]
        },
        {
          "output_type": "stream",
          "name": "stdout",
          "text": [
            "Val AUC : 0.809\n",
            "\n",
            "Epoch : 56 \n",
            "\n"
          ]
        },
        {
          "output_type": "stream",
          "name": "stderr",
          "text": [
            "100%|██████████| 1107/1107 [00:10<00:00, 101.83it/s]\n"
          ]
        },
        {
          "output_type": "stream",
          "name": "stdout",
          "text": [
            "learning rate: 0.000016\n"
          ]
        },
        {
          "output_type": "stream",
          "name": "stderr",
          "text": [
            "100%|██████████| 139/139 [00:00<00:00, 202.46it/s]\n"
          ]
        },
        {
          "output_type": "stream",
          "name": "stdout",
          "text": [
            "Val AUC : 0.810\n",
            "\n",
            "Epoch : 57 \n",
            "\n"
          ]
        },
        {
          "output_type": "stream",
          "name": "stderr",
          "text": [
            "100%|██████████| 1107/1107 [00:11<00:00, 100.36it/s]\n"
          ]
        },
        {
          "output_type": "stream",
          "name": "stdout",
          "text": [
            "learning rate: 0.000016\n"
          ]
        },
        {
          "output_type": "stream",
          "name": "stderr",
          "text": [
            "100%|██████████| 139/139 [00:00<00:00, 200.00it/s]\n"
          ]
        },
        {
          "output_type": "stream",
          "name": "stdout",
          "text": [
            "Val AUC : 0.810\n",
            "\n",
            "Epoch : 58 \n",
            "\n"
          ]
        },
        {
          "output_type": "stream",
          "name": "stderr",
          "text": [
            "100%|██████████| 1107/1107 [00:11<00:00, 100.44it/s]\n"
          ]
        },
        {
          "output_type": "stream",
          "name": "stdout",
          "text": [
            "learning rate: 0.000016\n"
          ]
        },
        {
          "output_type": "stream",
          "name": "stderr",
          "text": [
            "100%|██████████| 139/139 [00:00<00:00, 202.86it/s]\n"
          ]
        },
        {
          "output_type": "stream",
          "name": "stdout",
          "text": [
            "Val AUC : 0.810\n",
            "\n",
            "Epoch : 59 \n",
            "\n"
          ]
        },
        {
          "output_type": "stream",
          "name": "stderr",
          "text": [
            "100%|██████████| 1107/1107 [00:11<00:00, 100.58it/s]\n"
          ]
        },
        {
          "output_type": "stream",
          "name": "stdout",
          "text": [
            "learning rate: 0.000016\n"
          ]
        },
        {
          "output_type": "stream",
          "name": "stderr",
          "text": [
            "100%|██████████| 139/139 [00:00<00:00, 201.55it/s]\n"
          ]
        },
        {
          "output_type": "stream",
          "name": "stdout",
          "text": [
            "Val AUC : 0.810\n",
            "\n",
            "Epoch : 60 \n",
            "\n"
          ]
        },
        {
          "output_type": "stream",
          "name": "stderr",
          "text": [
            "100%|██████████| 1107/1107 [00:10<00:00, 100.80it/s]\n"
          ]
        },
        {
          "output_type": "stream",
          "name": "stdout",
          "text": [
            "learning rate: 0.000008\n"
          ]
        },
        {
          "output_type": "stream",
          "name": "stderr",
          "text": [
            "100%|██████████| 139/139 [00:00<00:00, 202.87it/s]"
          ]
        },
        {
          "output_type": "stream",
          "name": "stdout",
          "text": [
            "Val AUC : 0.810\n",
            "\n"
          ]
        },
        {
          "output_type": "stream",
          "name": "stderr",
          "text": [
            "\n"
          ]
        }
      ]
    },
    {
      "cell_type": "markdown",
      "source": [
        "### Testing"
      ],
      "metadata": {
        "id": "zy5whyC7jQfD"
      }
    },
    {
      "cell_type": "code",
      "source": [
        "def test(model, device, loader):\n",
        "  \n",
        "    model.eval()\n",
        "    y_true = []\n",
        "    y_probas = []\n",
        "    y_pred = []\n",
        "\n",
        "    with torch.no_grad():\n",
        "      \n",
        "        for data in tqdm(loader):\n",
        "          \n",
        "            X, y = data\n",
        "\n",
        "            X = X.to(device)\n",
        "            y = y.to(device)\n",
        "            \n",
        "            out = model(X)\n",
        "            \n",
        "            y_true += y.cpu().numpy().tolist()\n",
        "            y_pred += out.argmax(dim=1).cpu().numpy().tolist()  # absoulte predictions\n",
        "            y_probas += out[:, 1].cpu().numpy().tolist()  # probability of class 1\n",
        "\n",
        "    # Calculating few metrics\n",
        "\n",
        "    acc = accuracy_score(y_true, y_pred)\n",
        "    f1 = f1_score(y_true, y_pred)\n",
        "    fpr, tpr, thresholds = roc_curve(y_true, y_probas)\n",
        "    roc_auc = auc(fpr, tpr)\n",
        "\n",
        "    print('\\nResults\\n')\n",
        "    print(f'Testing Accuracy {acc:.3f}')\n",
        "    print(f'F1 score: {f1:.3f}')\n",
        "    print(f'ROC-AUC: {roc_auc:.4f}\\n')\n",
        "\n",
        "    return acc, f1, fpr, tpr, roc_auc"
      ],
      "metadata": {
        "id": "ig6VIsvfiPSS"
      },
      "execution_count": 226,
      "outputs": []
    },
    {
      "cell_type": "code",
      "source": [
        "acc_pytorch, f1_pytorch, fpr_pytorch, tpr_pytorch, auc_pytorch = test(model_pytorch, device, test_loader)"
      ],
      "metadata": {
        "colab": {
          "base_uri": "https://localhost:8080/"
        },
        "id": "NcBp60kIjUZu",
        "outputId": "2535df85-a6d3-40f9-f0b8-695d052abd74"
      },
      "execution_count": 227,
      "outputs": [
        {
          "output_type": "stream",
          "name": "stderr",
          "text": [
            "100%|██████████| 139/139 [00:00<00:00, 200.01it/s]\n"
          ]
        },
        {
          "output_type": "stream",
          "name": "stdout",
          "text": [
            "\n",
            "Results\n",
            "\n",
            "Testing Accuracy 0.736\n",
            "F1 score: 0.738\n",
            "ROC-AUC: 0.8058\n",
            "\n"
          ]
        }
      ]
    },
    {
      "cell_type": "markdown",
      "source": [
        "## Results"
      ],
      "metadata": {
        "id": "FheQ3pflknpy"
      }
    },
    {
      "cell_type": "markdown",
      "source": [
        "### 1. Plots"
      ],
      "metadata": {
        "id": "4_jDAGl1kq49"
      }
    },
    {
      "cell_type": "code",
      "source": [
        "plt.plot(fpr_keras, tpr_keras, label=f'Keras ROC-AUC : area {auc_keras:.4f}')\n",
        "plt.plot(fpr_pytorch, tpr_pytorch, label=f'Pytorch ROC-AUC : area {auc_pytorch:.4f}')\n",
        "\n",
        "plt.plot([0, 1], [0, 1], 'k--')\n",
        "plt.xlabel('False positive rate')\n",
        "plt.ylabel('True positive rate')\n",
        "plt.title('ROC-curves')\n",
        "\n",
        "plt.legend()\n",
        "plt.savefig('roc-auc.png')\n",
        "plt.show()"
      ],
      "metadata": {
        "colab": {
          "base_uri": "https://localhost:8080/",
          "height": 295
        },
        "id": "hZ-QPjvRHF56",
        "outputId": "f9caad14-b671-4972-bb36-a44cf3f2ad91"
      },
      "execution_count": 228,
      "outputs": [
        {
          "output_type": "display_data",
          "data": {
            "text/plain": [
              "<Figure size 432x288 with 1 Axes>"
            ],
            "image/png": "[encoded data removed]"
          },
          "metadata": {
            "needs_background": "light"
          }
        }
      ]
    },
    {
      "cell_type": "markdown",
      "source": [
        "### 2. Metrics"
      ],
      "metadata": {
        "id": "sj0SVO5Yksy5"
      }
    },
    {
      "cell_type": "markdown",
      "source": [
        "Keras Implementation"
      ],
      "metadata": {
        "id": "26IE3wsAk1vc"
      }
    },
    {
      "cell_type": "code",
      "source": [
        "print(f'Testing Accuracy {accuracy_keras:.3f}')\n",
        "print(f'F1 score: {f1_keras:.3f}')\n",
        "print(f'ROC-AUC: {auc_keras:.4f}')"
      ],
      "metadata": {
        "colab": {
          "base_uri": "https://localhost:8080/"
        },
        "id": "4est80zskt2q",
        "outputId": "f3a97d33-5c59-4afa-c6cf-4b2442cb71ea"
      },
      "execution_count": 229,
      "outputs": [
        {
          "output_type": "stream",
          "name": "stdout",
          "text": [
            "Testing Accuracy 0.737\n",
            "F1 score: 0.737\n",
            "ROC-AUC: 0.8078\n"
          ]
        }
      ]
    },
    {
      "cell_type": "markdown",
      "source": [
        "Pytorch Implementation\n"
      ],
      "metadata": {
        "id": "G7xxWchrlBCc"
      }
    },
    {
      "cell_type": "code",
      "source": [
        "print(f'Testing Accuracy {acc_pytorch:.3f}')\n",
        "print(f'F1 score: {f1_pytorch:.3f}')\n",
        "print(f'ROC-AUC: {auc_pytorch:.4f}')"
      ],
      "metadata": {
        "colab": {
          "base_uri": "https://localhost:8080/"
        },
        "id": "cGpkWp3glDZl",
        "outputId": "dcac09b0-d956-45a7-f1f5-255811f75d74"
      },
      "execution_count": 230,
      "outputs": [
        {
          "output_type": "stream",
          "name": "stdout",
          "text": [
            "Testing Accuracy 0.736\n",
            "F1 score: 0.738\n",
            "ROC-AUC: 0.8058\n"
          ]
        }
      ]
    }
  ],
  "metadata": {
    "colab": {
      "provenance": []
    },
    "kernelspec": {
      "display_name": "Python 3",
      "name": "python3"
    },
    "language_info": {
      "name": "python"
    },
    "gpuClass": "premium",
    "accelerator": "GPU"
  },
  "nbformat": 4,
  "nbformat_minor": 0
}