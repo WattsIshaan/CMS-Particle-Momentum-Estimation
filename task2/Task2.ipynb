{
  "nbformat": 4,
  "nbformat_minor": 0,
  "metadata": {
    "colab": {
      "provenance": []
    },
    "kernelspec": {
      "name": "python3",
      "display_name": "Python 3"
    },
    "language_info": {
      "name": "python"
    },
    "accelerator": "GPU",
    "gpuClass": "premium"
  },
  "cells": [
    {
      "cell_type": "markdown",
      "source": [
        "# **Graph Neural Networks for Particle Momentum Estimation in the CMS Trigger System Task-2**"
      ],
      "metadata": {
        "id": "el9dWFb03AUf"
      }
    },
    {
      "cell_type": "markdown",
      "source": [
        "## Installing Requirements"
      ],
      "metadata": {
        "id": "Yu6UmTPP2_kJ"
      }
    },
    {
      "cell_type": "code",
      "source": [
        "pip install energyflow"
      ],
      "metadata": {
        "colab": {
          "base_uri": "https://localhost:8080/"
        },
        "id": "Nej2e7hZYjBt",
        "outputId": "bc8f0bd0-c93d-420a-eb89-e5d7f21892e1"
      },
      "execution_count": 1,
      "outputs": [
        {
          "output_type": "stream",
          "name": "stdout",
          "text": [
            "Looking in indexes: https://pypi.org/simple, https://us-python.pkg.dev/colab-wheels/public/simple/\n",
            "Collecting energyflow\n",
            "  Downloading EnergyFlow-1.3.2-py2.py3-none-any.whl (700 kB)\n",
            "\u001b[2K     \u001b[90m━━━━━━━━━━━━━━━━━━━━━━━━━━━━━━━━━━━━━━\u001b[0m \u001b[32m700.5/700.5 KB\u001b[0m \u001b[31m11.7 MB/s\u001b[0m eta \u001b[36m0:00:00\u001b[0m\n",
            "\u001b[?25hRequirement already satisfied: six>=1.10.0 in /usr/local/lib/python3.8/dist-packages (from energyflow) (1.15.0)\n",
            "Collecting wasserstein>=0.3.1\n",
            "  Downloading Wasserstein-1.1.0-cp38-cp38-manylinux_2_17_x86_64.manylinux2014_x86_64.whl (502 kB)\n",
            "\u001b[2K     \u001b[90m━━━━━━━━━━━━━━━━━━━━━━━━━━━━━━━━━━━━━━\u001b[0m \u001b[32m503.0/503.0 KB\u001b[0m \u001b[31m29.5 MB/s\u001b[0m eta \u001b[36m0:00:00\u001b[0m\n",
            "\u001b[?25hRequirement already satisfied: h5py>=2.9.0 in /usr/local/lib/python3.8/dist-packages (from energyflow) (3.1.0)\n",
            "Requirement already satisfied: numpy>=1.16.0 in /usr/local/lib/python3.8/dist-packages (from energyflow) (1.22.4)\n",
            "Collecting wurlitzer>=2.0.0\n",
            "  Downloading wurlitzer-3.0.3-py3-none-any.whl (7.3 kB)\n",
            "Installing collected packages: wurlitzer, wasserstein, energyflow\n",
            "Successfully installed energyflow-1.3.2 wasserstein-1.1.0 wurlitzer-3.0.3\n"
          ]
        }
      ]
    },
    {
      "cell_type": "code",
      "source": [
        "!pip install pyg_lib torch_scatter torch_sparse -f https://data.pyg.org/whl/torch-1.13.1+cu116.html\n",
        "!pip install torch-geometric"
      ],
      "metadata": {
        "colab": {
          "base_uri": "https://localhost:8080/",
          "height": 939
        },
        "id": "fAiK8PDYg_aT",
        "outputId": "7566b981-caf4-4bb4-8c0c-e1e38e9af5fb"
      },
      "execution_count": 2,
      "outputs": [
        {
          "output_type": "stream",
          "name": "stdout",
          "text": [
            "Looking in indexes: https://pypi.org/simple, https://us-python.pkg.dev/colab-wheels/public/simple/\n",
            "Looking in links: https://data.pyg.org/whl/torch-1.13.1+cu116.html\n",
            "Collecting pyg_lib\n",
            "  Downloading https://data.pyg.org/whl/torch-1.13.0%2Bcu116/pyg_lib-0.1.0%2Bpt113cu116-cp38-cp38-linux_x86_64.whl (1.9 MB)\n",
            "\u001b[2K     \u001b[90m━━━━━━━━━━━━━━━━━━━━━━━━━━━━━━━━━━━━━━━━\u001b[0m \u001b[32m1.9/1.9 MB\u001b[0m \u001b[31m22.9 MB/s\u001b[0m eta \u001b[36m0:00:00\u001b[0m\n",
            "\u001b[?25hCollecting torch_scatter\n",
            "  Downloading https://data.pyg.org/whl/torch-1.13.0%2Bcu116/torch_scatter-2.1.0%2Bpt113cu116-cp38-cp38-linux_x86_64.whl (9.4 MB)\n",
            "\u001b[2K     \u001b[90m━━━━━━━━━━━━━━━━━━━━━━━━━━━━━━━━━━━━━━━━\u001b[0m \u001b[32m9.4/9.4 MB\u001b[0m \u001b[31m50.0 MB/s\u001b[0m eta \u001b[36m0:00:00\u001b[0m\n",
            "\u001b[?25hCollecting torch_sparse\n",
            "  Downloading https://data.pyg.org/whl/torch-1.13.0%2Bcu116/torch_sparse-0.6.16%2Bpt113cu116-cp38-cp38-linux_x86_64.whl (4.5 MB)\n",
            "\u001b[2K     \u001b[90m━━━━━━━━━━━━━━━━━━━━━━━━━━━━━━━━━━━━━━━━\u001b[0m \u001b[32m4.5/4.5 MB\u001b[0m \u001b[31m43.6 MB/s\u001b[0m eta \u001b[36m0:00:00\u001b[0m\n",
            "\u001b[?25hRequirement already satisfied: scipy in /usr/local/lib/python3.8/dist-packages (from torch_sparse) (1.10.1)\n",
            "Requirement already satisfied: numpy<1.27.0,>=1.19.5 in /usr/local/lib/python3.8/dist-packages (from scipy->torch_sparse) (1.22.4)\n",
            "Installing collected packages: torch_scatter, pyg_lib, torch_sparse\n",
            "Successfully installed pyg_lib-0.1.0+pt113cu116 torch_scatter-2.1.0+pt113cu116 torch_sparse-0.6.16+pt113cu116\n",
            "Looking in indexes: https://pypi.org/simple, https://us-python.pkg.dev/colab-wheels/public/simple/\n",
            "Collecting torch-geometric\n",
            "  Downloading torch_geometric-2.2.0.tar.gz (564 kB)\n",
            "\u001b[2K     \u001b[90m━━━━━━━━━━━━━━━━━━━━━━━━━━━━━━━━━━━━━━\u001b[0m \u001b[32m565.0/565.0 KB\u001b[0m \u001b[31m11.6 MB/s\u001b[0m eta \u001b[36m0:00:00\u001b[0m\n",
            "\u001b[?25h  Preparing metadata (setup.py) ... \u001b[?25l\u001b[?25hdone\n",
            "Requirement already satisfied: tqdm in /usr/local/lib/python3.8/dist-packages (from torch-geometric) (4.64.1)\n",
            "Requirement already satisfied: numpy in /usr/local/lib/python3.8/dist-packages (from torch-geometric) (1.22.4)\n",
            "Requirement already satisfied: scipy in /usr/local/lib/python3.8/dist-packages (from torch-geometric) (1.10.1)\n",
            "Requirement already satisfied: jinja2 in /usr/local/lib/python3.8/dist-packages (from torch-geometric) (3.1.2)\n",
            "Requirement already satisfied: requests in /usr/local/lib/python3.8/dist-packages (from torch-geometric) (2.25.1)\n",
            "Requirement already satisfied: pyparsing in /usr/local/lib/python3.8/dist-packages (from torch-geometric) (3.0.9)\n",
            "Requirement already satisfied: scikit-learn in /usr/local/lib/python3.8/dist-packages (from torch-geometric) (1.2.1)\n",
            "Collecting psutil>=5.8.0\n",
            "  Downloading psutil-5.9.4-cp36-abi3-manylinux_2_12_x86_64.manylinux2010_x86_64.manylinux_2_17_x86_64.manylinux2014_x86_64.whl (280 kB)\n",
            "\u001b[2K     \u001b[90m━━━━━━━━━━━━━━━━━━━━━━━━━━━━━━━━━━━━━━\u001b[0m \u001b[32m280.2/280.2 KB\u001b[0m \u001b[31m24.6 MB/s\u001b[0m eta \u001b[36m0:00:00\u001b[0m\n",
            "\u001b[?25hRequirement already satisfied: MarkupSafe>=2.0 in /usr/local/lib/python3.8/dist-packages (from jinja2->torch-geometric) (2.1.2)\n",
            "Requirement already satisfied: certifi>=2017.4.17 in /usr/local/lib/python3.8/dist-packages (from requests->torch-geometric) (2022.12.7)\n",
            "Requirement already satisfied: urllib3<1.27,>=1.21.1 in /usr/local/lib/python3.8/dist-packages (from requests->torch-geometric) (1.26.14)\n",
            "Requirement already satisfied: chardet<5,>=3.0.2 in /usr/local/lib/python3.8/dist-packages (from requests->torch-geometric) (4.0.0)\n",
            "Requirement already satisfied: idna<3,>=2.5 in /usr/local/lib/python3.8/dist-packages (from requests->torch-geometric) (2.10)\n",
            "Requirement already satisfied: threadpoolctl>=2.0.0 in /usr/local/lib/python3.8/dist-packages (from scikit-learn->torch-geometric) (3.1.0)\n",
            "Requirement already satisfied: joblib>=1.1.1 in /usr/local/lib/python3.8/dist-packages (from scikit-learn->torch-geometric) (1.2.0)\n",
            "Building wheels for collected packages: torch-geometric\n",
            "  Building wheel for torch-geometric (setup.py) ... \u001b[?25l\u001b[?25hdone\n",
            "  Created wheel for torch-geometric: filename=torch_geometric-2.2.0-py3-none-any.whl size=773302 sha256=96e464ddc1fb44d1b8a062591e827dd90584bfa68366d20d013848df6d6dd62f\n",
            "  Stored in directory: /root/.cache/pip/wheels/59/a3/20/198928106d3169865ae73afcbd3d3d1796cf6b429b55c65378\n",
            "Successfully built torch-geometric\n",
            "Installing collected packages: psutil, torch-geometric\n",
            "  Attempting uninstall: psutil\n",
            "    Found existing installation: psutil 5.4.8\n",
            "    Uninstalling psutil-5.4.8:\n",
            "      Successfully uninstalled psutil-5.4.8\n",
            "Successfully installed psutil-5.9.4 torch-geometric-2.2.0\n"
          ]
        },
        {
          "output_type": "display_data",
          "data": {
            "application/vnd.colab-display-data+json": {
              "pip_warning": {
                "packages": [
                  "psutil"
                ]
              }
            }
          },
          "metadata": {}
        }
      ]
    },
    {
      "cell_type": "markdown",
      "source": [
        "## Importing Libraries"
      ],
      "metadata": {
        "id": "Gpek3Xrr3Nme"
      }
    },
    {
      "cell_type": "code",
      "source": [
        "import energyflow\n",
        "import numpy as np\n",
        "import matplotlib.pyplot as plt\n",
        "from tqdm import tqdm\n",
        "\n",
        "from sklearn.model_selection import train_test_split\n",
        "from sklearn.metrics import auc, f1_score, accuracy_score, roc_curve\n",
        "import torch\n",
        "from torch_geometric.data import Data, Dataset\n",
        "from torch_geometric.loader import DataLoader\n",
        "from torch_geometric.nn import GCNConv, Linear, global_mean_pool, GraphConv, global_max_pool\n",
        "import torch.nn.functional as F"
      ],
      "metadata": {
        "id": "-EIM-VUgYqjc"
      },
      "execution_count": 1,
      "outputs": []
    },
    {
      "cell_type": "markdown",
      "source": [
        "## Extracting Data"
      ],
      "metadata": {
        "id": "dPsT9c1q3koB"
      }
    },
    {
      "cell_type": "markdown",
      "source": [
        "Downloading data using energyflow library"
      ],
      "metadata": {
        "id": "fQeLYbCI3oW9"
      }
    },
    {
      "cell_type": "code",
      "execution_count": 3,
      "metadata": {
        "colab": {
          "base_uri": "https://localhost:8080/"
        },
        "id": "cIXJsHl0YJ9Y",
        "outputId": "f0abbb99-ac71-4e08-82cc-1e16b75f2bd7"
      },
      "outputs": [
        {
          "output_type": "stream",
          "name": "stdout",
          "text": [
            "Downloading QG_jets.npz from https://www.dropbox.com/s/fclsl7pukcpobsb/QG_jets.npz?dl=1 to /root/.energyflow/datasets\n"
          ]
        }
      ],
      "source": [
        "data = energyflow.qg_jets.load(num_data=100000, pad=True, ncol=4, generator='pythia',\n",
        "                        with_bc=False, cache_dir='~/.energyflow')"
      ]
    },
    {
      "cell_type": "code",
      "source": [
        "# Tuple unpacking\n",
        "X, y = data"
      ],
      "metadata": {
        "id": "22RsCE_hY60U"
      },
      "execution_count": 4,
      "outputs": []
    },
    {
      "cell_type": "markdown",
      "source": [
        "Getting the shape of the dataset. \n",
        "X is a matrix of size (N, M, 4) where,\n",
        "\n",
        "\n",
        "1. N is the number of jets <br>\n",
        "2. M is the maximum particles in a jet <br>\n",
        "3. 4 are the features of each particles denoting (pt, eta, phi, pid) values. <br>\n",
        "\n"
      ],
      "metadata": {
        "id": "HnAeT7HC4PSE"
      }
    },
    {
      "cell_type": "code",
      "source": [
        "print(f'X Shape : {X.shape}')"
      ],
      "metadata": {
        "colab": {
          "base_uri": "https://localhost:8080/"
        },
        "id": "tbfzBc8M4Ls9",
        "outputId": "4c6732e5-d39e-4853-9f02-b0acf467799a"
      },
      "execution_count": 5,
      "outputs": [
        {
          "output_type": "stream",
          "name": "stdout",
          "text": [
            "X Shape : (100000, 139, 4)\n"
          ]
        }
      ]
    },
    {
      "cell_type": "code",
      "source": [
        "# Checking Distribution of Labels\n",
        "print(f'Division of labels : {np.unique(y, return_counts = True)}')"
      ],
      "metadata": {
        "colab": {
          "base_uri": "https://localhost:8080/"
        },
        "id": "y8leH5DY4MFQ",
        "outputId": "c6b84437-2f68-45d8-bbf6-f90e97985c36"
      },
      "execution_count": 6,
      "outputs": [
        {
          "output_type": "stream",
          "name": "stdout",
          "text": [
            "Division of labels : (array([0., 1.]), array([50000, 50000]))\n"
          ]
        }
      ]
    },
    {
      "cell_type": "markdown",
      "source": [
        "## Constructing Graphs"
      ],
      "metadata": {
        "id": "mU9sS1uM5Mms"
      }
    },
    {
      "cell_type": "markdown",
      "source": [
        "The graphs for ech jet is constructed in the following way: \n",
        "\n",
        "1. First for each jet we remove all the particles having all features values were zero i.e., remove paddings.\n",
        "\n",
        "2. Next we calculate the pair-wise euclidean distance between the nodes using this metric,\n",
        "\n",
        "<center>\n",
        "$R = \\sqrt{Δη^2 + Δϕ^2}$\n",
        "</center>\n",
        "\n",
        "I have set a threshold for R above which we do not consider an edge between the nodes. The chosen value after experimenting is **0.05**.\n",
        "\n",
        "3. Next, edge-index are formed and the reverse edges are also concatenated. \n",
        "\n",
        "4. R values are set as the edge-weights and all the 4 feature are set as the node-features."
      ],
      "metadata": {
        "id": "LFIX0i5A8b5i"
      }
    },
    {
      "cell_type": "code",
      "source": [
        "class JetGraphDataset(Dataset):\n",
        "\n",
        "    def __init__(self, jet_graphs, jet_labels, split = 'train', seed = 1, split_ratio = 0.2, edge_threshold = 0.05):\n",
        "\n",
        "        jet_graphs = torch.from_numpy(jet_graphs).float()\n",
        "        jet_labels = torch.from_numpy(jet_labels).long()\n",
        "\n",
        "        self.edge_threshold = edge_threshold\n",
        "\n",
        "        # Splitting the data into train-val-test graphs\n",
        "        X_train, X_rem, Y_train, Y_rem = train_test_split(jet_graphs, jet_labels, test_size = split_ratio, stratify = jet_labels, random_state = seed)\n",
        "        X_val, X_test, Y_val, Y_test = train_test_split(X_rem, Y_rem, train_size = 0.5, stratify = Y_rem, random_state = seed)\n",
        "\n",
        "        if split == 'train':\n",
        "          self.graphs = X_train\n",
        "          self.labels = Y_train\n",
        "\n",
        "        elif split == 'test':\n",
        "          self.graphs = X_test\n",
        "          self.labels = Y_test\n",
        "\n",
        "        else:\n",
        "          self.graphs = X_val\n",
        "          self.labels = Y_val\n",
        "        \n",
        "    def __len__(self):\n",
        "        return len(self.labels)\n",
        "    \n",
        "    def __getitem__(self, idx):\n",
        "\n",
        "        jet_graph = self.construct_jet_graph(self.graphs[idx])\n",
        "        jet_graph.y = self.labels[idx]\n",
        "\n",
        "        #print('final : ', jet_graph.x.shape, jet_graph.edge_index.shape, jet_graph.edge_attr.shape, jet_graph.y.shape)\n",
        "\n",
        "        return jet_graph\n",
        "\n",
        "    def construct_jet_graph(self, jet_matrix):\n",
        "\n",
        "        # Discard rows with all values as 0\n",
        "        jet_matrix = jet_matrix[~(jet_matrix == 0).all(1)]\n",
        "\n",
        "        # Calculate pairwise euclidean distances between rows\n",
        "        euclidean_distances = torch.cdist(jet_matrix[:, 1:3], jet_matrix[:, 1:3], p=2)\n",
        "\n",
        "        # Create edge indices based on the distance threshold\n",
        "        edge_indices = torch.nonzero(euclidean_distances <= self.edge_threshold)\n",
        "        #print('indices', edge_indices.shape)\n",
        "        edge_indices = edge_indices.t().contiguous()\n",
        "        edge_indices = torch.cat((edge_indices, edge_indices[[1, 0]]), dim=1)\n",
        "\n",
        "        # Create node features and edge features\n",
        "        x = jet_matrix[:, [0, 1, 2, 3]]\n",
        "        edge_attr = euclidean_distances[edge_indices[0], edge_indices[1]].unsqueeze(-1)\n",
        "\n",
        "        # Create PyTorch Geometric Data object\n",
        "        data = Data(x=x, edge_index=edge_indices, edge_attr=edge_attr)\n",
        "\n",
        "        return data"
      ],
      "metadata": {
        "id": "PV0On-o-5Rv-"
      },
      "execution_count": 7,
      "outputs": []
    },
    {
      "cell_type": "code",
      "source": [
        "# Creating the train-val-test datasets\n",
        "\n",
        "train_dataset = JetGraphDataset(X, y, split = 'train', edge_threshold = 0.05)\n",
        "val_dataset = JetGraphDataset(X, y, split = 'val', edge_threshold = 0.05)\n",
        "test_dataset = JetGraphDataset(X, y, split = 'test', edge_threshold = 0.05)"
      ],
      "metadata": {
        "id": "27p1xNHF9zDy"
      },
      "execution_count": 8,
      "outputs": []
    },
    {
      "cell_type": "markdown",
      "source": [
        "## DataLoaders"
      ],
      "metadata": {
        "id": "_PjINGPn_SZ_"
      }
    },
    {
      "cell_type": "code",
      "source": [
        "def get_data_loaders(train_dataset, val_dataset, test_dataset, batch_size=32):\n",
        "\n",
        "    \"\"\"\n",
        "    Function to create the DataLoaders for train-val-test data. \n",
        "    Can specify batch size. Default value is set to 32.\n",
        "    \"\"\"\n",
        "\n",
        "    # Shuffle=True for training data to get diversity in batches at each training epoch\n",
        "    train_loader = DataLoader(train_dataset, batch_size=batch_size, shuffle=True)\n",
        "    val_loader = DataLoader(val_dataset, batch_size=batch_size, shuffle=False)\n",
        "    test_loader = DataLoader(test_dataset, batch_size=batch_size, shuffle=False)\n",
        "\n",
        "    return train_loader, val_loader, test_loader\n",
        "\n",
        "train_loader, val_loader, test_loader = get_data_loaders(train_dataset, val_dataset, test_dataset, batch_size=32)"
      ],
      "metadata": {
        "id": "pIQboT6J_U4H"
      },
      "execution_count": 9,
      "outputs": []
    },
    {
      "cell_type": "markdown",
      "source": [
        "### Set Device"
      ],
      "metadata": {
        "id": "EZ5hgbKf_Maq"
      }
    },
    {
      "cell_type": "code",
      "source": [
        "def get_device():\n",
        "    return torch.device('cuda' if torch.cuda.is_available() else 'cpu')"
      ],
      "metadata": {
        "id": "Y0vbfuP__1JI"
      },
      "execution_count": 10,
      "outputs": []
    },
    {
      "cell_type": "code",
      "source": [
        "device = get_device()\n",
        "print(device)"
      ],
      "metadata": {
        "colab": {
          "base_uri": "https://localhost:8080/"
        },
        "id": "a4-TqSwy_5oK",
        "outputId": "39fd8b6e-8c77-41a9-a30d-7dc2603ce361"
      },
      "execution_count": 11,
      "outputs": [
        {
          "output_type": "stream",
          "name": "stdout",
          "text": [
            "cpu\n"
          ]
        }
      ]
    },
    {
      "cell_type": "markdown",
      "source": [
        "#Model"
      ],
      "metadata": {
        "id": "OeNGFIupfOv7"
      }
    },
    {
      "cell_type": "markdown",
      "source": [
        "### Model Architecture\n",
        "\n",
        "I haved used 2 GNN architectures"
      ],
      "metadata": {
        "id": "amKzk-WCVZeM"
      }
    },
    {
      "cell_type": "markdown",
      "source": [
        "\n",
        "**Architecture 1**\n",
        "\n",
        "1. 3-layer GCN network with relu for aggregation of node-level features.\n",
        "2. Readput layer as global mean pooling for graph-level embedding.\n",
        "3. A dropout layer followed by linear layer."
      ],
      "metadata": {
        "id": "cQ7RKud8_MO3"
      }
    },
    {
      "cell_type": "code",
      "source": [
        "class GCN(torch.nn.Module):\n",
        "    def __init__(self, node_features = 2, hidden_channels = 16, num_classes = 2):\n",
        "\n",
        "        super(GCN, self).__init__()\n",
        "        torch.manual_seed(1)\n",
        "\n",
        "        self.conv1 = GCNConv(node_features, hidden_channels)\n",
        "        self.conv2 = GCNConv(hidden_channels, hidden_channels)\n",
        "        self.conv3 = GCNConv(hidden_channels, hidden_channels)\n",
        "\n",
        "        self.lin = torch.nn.Linear(hidden_channels, num_classes)\n",
        "\n",
        "    def forward(self, data):\n",
        "\n",
        "        x, edge_index, edge_attr, batch = data.x, data.edge_index, data.edge_attr, data.batch\n",
        "\n",
        "        x = self.conv1(x, edge_index, edge_attr)\n",
        "        x = F.relu(x)\n",
        "        x = self.conv2(x, edge_index, edge_attr)\n",
        "        x = F.relu(x)\n",
        "        x = self.conv3(x, edge_index, edge_attr)\n",
        "\n",
        "        x = global_mean_pool(x, batch)\n",
        "\n",
        "        x = F.dropout(x, p=0.5, training=self.training)\n",
        "        x = self.lin(x)\n",
        "\n",
        "        return x"
      ],
      "metadata": {
        "id": "aI_Twk7G1syu"
      },
      "execution_count": 12,
      "outputs": []
    },
    {
      "cell_type": "markdown",
      "source": [
        "**Architecture 2**\n",
        "\n",
        "1. Use of GraphConv layer in-place of GCN layer. It adds skip connections in the network tp preserve central node information and omits neighborhood normalization completely.\n",
        "\n",
        "2. The same readout layer with gloab_mean_pooling is used. I also tried using a combination of global_mean and global_max pool but it lead to decrease in performance.\n",
        "\n",
        "3. This is followed by an additional linear layer with relu. Then a dropout and final linear layer."
      ],
      "metadata": {
        "id": "ZOk8c1rl_PWS"
      }
    },
    {
      "cell_type": "code",
      "source": [
        "class GraphNN(torch.nn.Module):\n",
        "    def __init__(self, node_features = 2, hidden_channels = 16, num_classes = 2):\n",
        "\n",
        "        super(GraphNN, self).__init__()\n",
        "        torch.manual_seed(1)\n",
        "\n",
        "        self.conv1 = GraphConv(node_features, hidden_channels)\n",
        "        self.conv2 = GraphConv(hidden_channels, hidden_channels)\n",
        "        self.conv3 = GraphConv(hidden_channels, hidden_channels)\n",
        "\n",
        "        self.lin1 = torch.nn.Linear(hidden_channels, hidden_channels)\n",
        "        self.lin2 = torch.nn.Linear(hidden_channels, num_classes)\n",
        "\n",
        "\n",
        "    def forward(self, data):\n",
        "\n",
        "        x, edge_index, edge_attr, batch = data.x, data.edge_index, data.edge_attr, data.batch\n",
        "\n",
        "        # Neighbourhood node-feature aggregation\n",
        "        x = self.conv1(x, edge_index, edge_attr)\n",
        "        x = F.relu(x)\n",
        "        x = self.conv2(x, edge_index, edge_attr)\n",
        "        x = F.relu(x)\n",
        "        x = self.conv3(x, edge_index, edge_attr)\n",
        "\n",
        "        #x_max = global_max_pool(x, batch)\n",
        "        #x_mean = global_mean_pool(x, batch)\n",
        "        #x = torch.cat([x_max, x_mean], dim=1)\n",
        "\n",
        "        # Batch-wise node-level aggreation \n",
        "        x = global_mean_pool(x, batch)  # (batch, features)\n",
        "\n",
        "        x = F.relu(self.lin1(x))\n",
        "        x = F.dropout(x, p=0.5, training=self.training)\n",
        "        x = self.lin2(x)\n",
        "\n",
        "        return x"
      ],
      "metadata": {
        "id": "hqHoLgGKmQj6"
      },
      "execution_count": 13,
      "outputs": []
    },
    {
      "cell_type": "code",
      "source": [
        "model_GCN = GCN(node_features = 4, hidden_channels = 16, num_classes = 2)\n",
        "model_GraphNN = GraphNN(node_features = 4, hidden_channels = 16, num_classes = 2)\n",
        "\n",
        "model_GCN = model_GCN.to(device)\n",
        "model_GraphNN = model_GraphNN.to(device)"
      ],
      "metadata": {
        "id": "JdNwQZdPAX_l"
      },
      "execution_count": 14,
      "outputs": []
    },
    {
      "cell_type": "code",
      "source": [
        "print(model_GCN)"
      ],
      "metadata": {
        "colab": {
          "base_uri": "https://localhost:8080/"
        },
        "id": "yGx0dyeiASh8",
        "outputId": "a06007c0-5fc8-4071-d6f2-6e1d394bc76e"
      },
      "execution_count": 15,
      "outputs": [
        {
          "output_type": "stream",
          "name": "stdout",
          "text": [
            "GCN(\n",
            "  (conv1): GCNConv(4, 16)\n",
            "  (conv2): GCNConv(16, 16)\n",
            "  (conv3): GCNConv(16, 16)\n",
            "  (lin): Linear(in_features=16, out_features=2, bias=True)\n",
            ")\n"
          ]
        }
      ]
    },
    {
      "cell_type": "code",
      "source": [
        "print(model_GraphNN)"
      ],
      "metadata": {
        "colab": {
          "base_uri": "https://localhost:8080/"
        },
        "id": "bCANDctjAoHg",
        "outputId": "c7406f14-c9f8-4c7c-fc36-3dcce429a285"
      },
      "execution_count": 16,
      "outputs": [
        {
          "output_type": "stream",
          "name": "stdout",
          "text": [
            "GraphNN(\n",
            "  (conv1): GraphConv(4, 16)\n",
            "  (conv2): GraphConv(16, 16)\n",
            "  (conv3): GraphConv(16, 16)\n",
            "  (lin1): Linear(in_features=16, out_features=16, bias=True)\n",
            "  (lin2): Linear(in_features=16, out_features=2, bias=True)\n",
            ")\n"
          ]
        }
      ]
    },
    {
      "cell_type": "code",
      "source": [
        "# Defining the optimizer and loss function\n",
        "\n",
        "optimizer_GCN = torch.optim.Adam(model_GCN.parameters(), lr=0.001)\n",
        "optimizer_GraphNN = torch.optim.Adam(model_GraphNN.parameters(), lr=0.001)\n",
        "\n",
        "criterion = torch.nn.CrossEntropyLoss()"
      ],
      "metadata": {
        "id": "GX46ysyPA0D1"
      },
      "execution_count": 17,
      "outputs": []
    },
    {
      "cell_type": "markdown",
      "source": [
        "### Defining Train-Val-Test Functions"
      ],
      "metadata": {
        "id": "JjNWjE9fVcZm"
      }
    },
    {
      "cell_type": "code",
      "source": [
        "def train(model, device, loader, optimizer, criterion):\n",
        "\n",
        "    model.train()\n",
        "    correct = 0\n",
        "    total_loss = 0\n",
        "    for data in tqdm(loader):  # Iterate in batches over the training dataset.\n",
        "        \n",
        "        data = data.to(device)\n",
        "\n",
        "        out = model(data)  # Perform a single forward pass.\n",
        "\n",
        "        loss = criterion(out, data.y)  # Compute the loss.\n",
        "        loss.backward()  # Derive gradients.\n",
        "        optimizer.step()  # Update parameters based on gradients.\n",
        "        optimizer.zero_grad()  # Clear gradients.\n",
        "\n",
        "        pred = out.argmax(dim=1)\n",
        "\n",
        "        correct += int((pred == data.y).sum())\n",
        "        total_loss += loss.item()\n",
        "\n",
        "    print(f'Train Acc: {correct/len(loader.dataset):.3f}, Train Loss: {total_loss:.4f}')\n",
        "\n",
        "    return model, total_loss\n",
        "\n",
        "    \n",
        "def evaluate(model, device, loader):\n",
        "  \n",
        "    model.eval()\n",
        "    correct = 0\n",
        "    \n",
        "    with torch.no_grad():\n",
        "        for data in tqdm(loader):\n",
        "\n",
        "            data = data.to(device)\n",
        "            out = model(data)\n",
        "\n",
        "            # Calculation of correctly classified edges\n",
        "            pred = out.argmax(dim=1)\n",
        "            correct += (pred == data.y).sum().item()\n",
        "\n",
        "        print(f'Val Acc : {correct/len(loader.dataset):.3f}\\n')"
      ],
      "metadata": {
        "id": "3CfbkCxbwvVi"
      },
      "execution_count": 18,
      "outputs": []
    },
    {
      "cell_type": "markdown",
      "source": [
        "### Training"
      ],
      "metadata": {
        "id": "XvXsBpUaVjhS"
      }
    },
    {
      "cell_type": "code",
      "source": [
        "# Training Loop for Architecture 1\n",
        "\n",
        "epochs = 10\n",
        "\n",
        "for epoch in range(epochs):\n",
        "\n",
        "  print(f'Epoch : {epoch+1} \\n')\n",
        "\n",
        "  model_GCN, loss = train(model_GCN, device, train_loader, optimizer_GCN, criterion)\n",
        "  evaluate(model_GCN, device, val_loader)"
      ],
      "metadata": {
        "colab": {
          "base_uri": "https://localhost:8080/"
        },
        "id": "CdRInNsXHka7",
        "outputId": "4a0ed3b6-e74a-4e12-8721-ed7b1f9193a4"
      },
      "execution_count": 19,
      "outputs": [
        {
          "output_type": "stream",
          "name": "stdout",
          "text": [
            "Epoch : 1 \n",
            "\n"
          ]
        },
        {
          "output_type": "stream",
          "name": "stderr",
          "text": [
            "100%|██████████| 2500/2500 [01:51<00:00, 22.49it/s]\n"
          ]
        },
        {
          "output_type": "stream",
          "name": "stdout",
          "text": [
            "Train Acc: 0.700, Train Loss: 1479.4574\n"
          ]
        },
        {
          "output_type": "stream",
          "name": "stderr",
          "text": [
            "100%|██████████| 313/313 [00:10<00:00, 30.26it/s]\n"
          ]
        },
        {
          "output_type": "stream",
          "name": "stdout",
          "text": [
            "Val Acc : 0.760\n",
            "\n",
            "Epoch : 2 \n",
            "\n"
          ]
        },
        {
          "output_type": "stream",
          "name": "stderr",
          "text": [
            "100%|██████████| 2500/2500 [01:40<00:00, 24.85it/s]\n"
          ]
        },
        {
          "output_type": "stream",
          "name": "stdout",
          "text": [
            "Train Acc: 0.748, Train Loss: 1308.6267\n"
          ]
        },
        {
          "output_type": "stream",
          "name": "stderr",
          "text": [
            "100%|██████████| 313/313 [00:09<00:00, 34.11it/s]\n"
          ]
        },
        {
          "output_type": "stream",
          "name": "stdout",
          "text": [
            "Val Acc : 0.764\n",
            "\n",
            "Epoch : 3 \n",
            "\n"
          ]
        },
        {
          "output_type": "stream",
          "name": "stderr",
          "text": [
            "100%|██████████| 2500/2500 [01:40<00:00, 24.92it/s]\n"
          ]
        },
        {
          "output_type": "stream",
          "name": "stdout",
          "text": [
            "Train Acc: 0.755, Train Loss: 1288.9206\n"
          ]
        },
        {
          "output_type": "stream",
          "name": "stderr",
          "text": [
            "100%|██████████| 313/313 [00:10<00:00, 30.16it/s]\n"
          ]
        },
        {
          "output_type": "stream",
          "name": "stdout",
          "text": [
            "Val Acc : 0.767\n",
            "\n",
            "Epoch : 4 \n",
            "\n"
          ]
        },
        {
          "output_type": "stream",
          "name": "stderr",
          "text": [
            "100%|██████████| 2500/2500 [01:43<00:00, 24.17it/s]\n"
          ]
        },
        {
          "output_type": "stream",
          "name": "stdout",
          "text": [
            "Train Acc: 0.760, Train Loss: 1278.3362\n"
          ]
        },
        {
          "output_type": "stream",
          "name": "stderr",
          "text": [
            "100%|██████████| 313/313 [00:08<00:00, 35.57it/s]\n"
          ]
        },
        {
          "output_type": "stream",
          "name": "stdout",
          "text": [
            "Val Acc : 0.773\n",
            "\n",
            "Epoch : 5 \n",
            "\n"
          ]
        },
        {
          "output_type": "stream",
          "name": "stderr",
          "text": [
            "100%|██████████| 2500/2500 [01:42<00:00, 24.38it/s]\n"
          ]
        },
        {
          "output_type": "stream",
          "name": "stdout",
          "text": [
            "Train Acc: 0.760, Train Loss: 1272.5268\n"
          ]
        },
        {
          "output_type": "stream",
          "name": "stderr",
          "text": [
            "100%|██████████| 313/313 [00:09<00:00, 34.19it/s]\n"
          ]
        },
        {
          "output_type": "stream",
          "name": "stdout",
          "text": [
            "Val Acc : 0.768\n",
            "\n",
            "Epoch : 6 \n",
            "\n"
          ]
        },
        {
          "output_type": "stream",
          "name": "stderr",
          "text": [
            "100%|██████████| 2500/2500 [01:39<00:00, 25.11it/s]\n"
          ]
        },
        {
          "output_type": "stream",
          "name": "stdout",
          "text": [
            "Train Acc: 0.762, Train Loss: 1267.4016\n"
          ]
        },
        {
          "output_type": "stream",
          "name": "stderr",
          "text": [
            "100%|██████████| 313/313 [00:09<00:00, 34.50it/s]\n"
          ]
        },
        {
          "output_type": "stream",
          "name": "stdout",
          "text": [
            "Val Acc : 0.773\n",
            "\n",
            "Epoch : 7 \n",
            "\n"
          ]
        },
        {
          "output_type": "stream",
          "name": "stderr",
          "text": [
            "100%|██████████| 2500/2500 [01:45<00:00, 23.66it/s]\n"
          ]
        },
        {
          "output_type": "stream",
          "name": "stdout",
          "text": [
            "Train Acc: 0.764, Train Loss: 1266.0319\n"
          ]
        },
        {
          "output_type": "stream",
          "name": "stderr",
          "text": [
            "100%|██████████| 313/313 [00:09<00:00, 34.40it/s]\n"
          ]
        },
        {
          "output_type": "stream",
          "name": "stdout",
          "text": [
            "Val Acc : 0.770\n",
            "\n",
            "Epoch : 8 \n",
            "\n"
          ]
        },
        {
          "output_type": "stream",
          "name": "stderr",
          "text": [
            "100%|██████████| 2500/2500 [02:06<00:00, 19.75it/s]\n"
          ]
        },
        {
          "output_type": "stream",
          "name": "stdout",
          "text": [
            "Train Acc: 0.765, Train Loss: 1261.8620\n"
          ]
        },
        {
          "output_type": "stream",
          "name": "stderr",
          "text": [
            "100%|██████████| 313/313 [00:08<00:00, 35.62it/s]\n"
          ]
        },
        {
          "output_type": "stream",
          "name": "stdout",
          "text": [
            "Val Acc : 0.771\n",
            "\n",
            "Epoch : 9 \n",
            "\n"
          ]
        },
        {
          "output_type": "stream",
          "name": "stderr",
          "text": [
            "100%|██████████| 2500/2500 [01:50<00:00, 22.65it/s]\n"
          ]
        },
        {
          "output_type": "stream",
          "name": "stdout",
          "text": [
            "Train Acc: 0.767, Train Loss: 1258.8274\n"
          ]
        },
        {
          "output_type": "stream",
          "name": "stderr",
          "text": [
            "100%|██████████| 313/313 [00:09<00:00, 33.47it/s]\n"
          ]
        },
        {
          "output_type": "stream",
          "name": "stdout",
          "text": [
            "Val Acc : 0.771\n",
            "\n",
            "Epoch : 10 \n",
            "\n"
          ]
        },
        {
          "output_type": "stream",
          "name": "stderr",
          "text": [
            "100%|██████████| 2500/2500 [01:47<00:00, 23.23it/s]\n"
          ]
        },
        {
          "output_type": "stream",
          "name": "stdout",
          "text": [
            "Train Acc: 0.767, Train Loss: 1258.1549\n"
          ]
        },
        {
          "output_type": "stream",
          "name": "stderr",
          "text": [
            "100%|██████████| 313/313 [00:09<00:00, 32.50it/s]"
          ]
        },
        {
          "output_type": "stream",
          "name": "stdout",
          "text": [
            "Val Acc : 0.772\n",
            "\n"
          ]
        },
        {
          "output_type": "stream",
          "name": "stderr",
          "text": [
            "\n"
          ]
        }
      ]
    },
    {
      "cell_type": "code",
      "source": [
        "# Training Loop for Architecture 2\n",
        "\n",
        "epochs = 10\n",
        "\n",
        "for epoch in range(epochs):\n",
        "\n",
        "  print(f'Epoch : {epoch+1} \\n')\n",
        "\n",
        "  model_GraphNN, loss = train(model_GraphNN, device, train_loader, optimizer_GraphNN, criterion)\n",
        "  evaluate(model_GraphNN, device, val_loader)"
      ],
      "metadata": {
        "colab": {
          "base_uri": "https://localhost:8080/"
        },
        "id": "I_LVx16ZB4Ua",
        "outputId": "f9153f27-d7db-4625-da12-10b48e4bd54e"
      },
      "execution_count": 20,
      "outputs": [
        {
          "output_type": "stream",
          "name": "stdout",
          "text": [
            "Epoch : 1 \n",
            "\n"
          ]
        },
        {
          "output_type": "stream",
          "name": "stderr",
          "text": [
            "100%|██████████| 2500/2500 [01:22<00:00, 30.36it/s]\n"
          ]
        },
        {
          "output_type": "stream",
          "name": "stdout",
          "text": [
            "Train Acc: 0.737, Train Loss: 1372.5108\n"
          ]
        },
        {
          "output_type": "stream",
          "name": "stderr",
          "text": [
            "100%|██████████| 313/313 [00:06<00:00, 45.46it/s]\n"
          ]
        },
        {
          "output_type": "stream",
          "name": "stdout",
          "text": [
            "Val Acc : 0.781\n",
            "\n",
            "Epoch : 2 \n",
            "\n"
          ]
        },
        {
          "output_type": "stream",
          "name": "stderr",
          "text": [
            "100%|██████████| 2500/2500 [01:22<00:00, 30.13it/s]\n"
          ]
        },
        {
          "output_type": "stream",
          "name": "stdout",
          "text": [
            "Train Acc: 0.769, Train Loss: 1262.0039\n"
          ]
        },
        {
          "output_type": "stream",
          "name": "stderr",
          "text": [
            "100%|██████████| 313/313 [00:06<00:00, 48.15it/s]\n"
          ]
        },
        {
          "output_type": "stream",
          "name": "stdout",
          "text": [
            "Val Acc : 0.785\n",
            "\n",
            "Epoch : 3 \n",
            "\n"
          ]
        },
        {
          "output_type": "stream",
          "name": "stderr",
          "text": [
            "100%|██████████| 2500/2500 [01:23<00:00, 29.97it/s]\n"
          ]
        },
        {
          "output_type": "stream",
          "name": "stdout",
          "text": [
            "Train Acc: 0.779, Train Loss: 1232.8763\n"
          ]
        },
        {
          "output_type": "stream",
          "name": "stderr",
          "text": [
            "100%|██████████| 313/313 [00:07<00:00, 39.37it/s]\n"
          ]
        },
        {
          "output_type": "stream",
          "name": "stdout",
          "text": [
            "Val Acc : 0.787\n",
            "\n",
            "Epoch : 4 \n",
            "\n"
          ]
        },
        {
          "output_type": "stream",
          "name": "stderr",
          "text": [
            "100%|██████████| 2500/2500 [01:24<00:00, 29.44it/s]\n"
          ]
        },
        {
          "output_type": "stream",
          "name": "stdout",
          "text": [
            "Train Acc: 0.784, Train Loss: 1215.3112\n"
          ]
        },
        {
          "output_type": "stream",
          "name": "stderr",
          "text": [
            "100%|██████████| 313/313 [00:07<00:00, 39.81it/s]\n"
          ]
        },
        {
          "output_type": "stream",
          "name": "stdout",
          "text": [
            "Val Acc : 0.791\n",
            "\n",
            "Epoch : 5 \n",
            "\n"
          ]
        },
        {
          "output_type": "stream",
          "name": "stderr",
          "text": [
            "100%|██████████| 2500/2500 [01:37<00:00, 25.55it/s]\n"
          ]
        },
        {
          "output_type": "stream",
          "name": "stdout",
          "text": [
            "Train Acc: 0.785, Train Loss: 1210.4889\n"
          ]
        },
        {
          "output_type": "stream",
          "name": "stderr",
          "text": [
            "100%|██████████| 313/313 [00:07<00:00, 39.73it/s]\n"
          ]
        },
        {
          "output_type": "stream",
          "name": "stdout",
          "text": [
            "Val Acc : 0.786\n",
            "\n",
            "Epoch : 6 \n",
            "\n"
          ]
        },
        {
          "output_type": "stream",
          "name": "stderr",
          "text": [
            "100%|██████████| 2500/2500 [01:28<00:00, 28.14it/s]\n"
          ]
        },
        {
          "output_type": "stream",
          "name": "stdout",
          "text": [
            "Train Acc: 0.786, Train Loss: 1203.9970\n"
          ]
        },
        {
          "output_type": "stream",
          "name": "stderr",
          "text": [
            "100%|██████████| 313/313 [00:07<00:00, 39.99it/s]\n"
          ]
        },
        {
          "output_type": "stream",
          "name": "stdout",
          "text": [
            "Val Acc : 0.791\n",
            "\n",
            "Epoch : 7 \n",
            "\n"
          ]
        },
        {
          "output_type": "stream",
          "name": "stderr",
          "text": [
            "100%|██████████| 2500/2500 [01:25<00:00, 29.19it/s]\n"
          ]
        },
        {
          "output_type": "stream",
          "name": "stdout",
          "text": [
            "Train Acc: 0.786, Train Loss: 1200.0282\n"
          ]
        },
        {
          "output_type": "stream",
          "name": "stderr",
          "text": [
            "100%|██████████| 313/313 [00:07<00:00, 42.83it/s]\n"
          ]
        },
        {
          "output_type": "stream",
          "name": "stdout",
          "text": [
            "Val Acc : 0.788\n",
            "\n",
            "Epoch : 8 \n",
            "\n"
          ]
        },
        {
          "output_type": "stream",
          "name": "stderr",
          "text": [
            "100%|██████████| 2500/2500 [01:27<00:00, 28.73it/s]\n"
          ]
        },
        {
          "output_type": "stream",
          "name": "stdout",
          "text": [
            "Train Acc: 0.788, Train Loss: 1193.1311\n"
          ]
        },
        {
          "output_type": "stream",
          "name": "stderr",
          "text": [
            "100%|██████████| 313/313 [00:07<00:00, 44.28it/s]\n"
          ]
        },
        {
          "output_type": "stream",
          "name": "stdout",
          "text": [
            "Val Acc : 0.788\n",
            "\n",
            "Epoch : 9 \n",
            "\n"
          ]
        },
        {
          "output_type": "stream",
          "name": "stderr",
          "text": [
            "100%|██████████| 2500/2500 [01:25<00:00, 29.10it/s]\n"
          ]
        },
        {
          "output_type": "stream",
          "name": "stdout",
          "text": [
            "Train Acc: 0.788, Train Loss: 1197.1163\n"
          ]
        },
        {
          "output_type": "stream",
          "name": "stderr",
          "text": [
            "100%|██████████| 313/313 [00:06<00:00, 47.42it/s]\n"
          ]
        },
        {
          "output_type": "stream",
          "name": "stdout",
          "text": [
            "Val Acc : 0.790\n",
            "\n",
            "Epoch : 10 \n",
            "\n"
          ]
        },
        {
          "output_type": "stream",
          "name": "stderr",
          "text": [
            "100%|██████████| 2500/2500 [01:28<00:00, 28.31it/s]\n"
          ]
        },
        {
          "output_type": "stream",
          "name": "stdout",
          "text": [
            "Train Acc: 0.789, Train Loss: 1196.4977\n"
          ]
        },
        {
          "output_type": "stream",
          "name": "stderr",
          "text": [
            "100%|██████████| 313/313 [00:07<00:00, 41.29it/s]"
          ]
        },
        {
          "output_type": "stream",
          "name": "stdout",
          "text": [
            "Val Acc : 0.795\n",
            "\n"
          ]
        },
        {
          "output_type": "stream",
          "name": "stderr",
          "text": [
            "\n"
          ]
        }
      ]
    },
    {
      "cell_type": "markdown",
      "source": [
        "### Testing"
      ],
      "metadata": {
        "id": "bzUnhQ3mbyK5"
      }
    },
    {
      "cell_type": "code",
      "source": [
        "def test(model, device, loader):\n",
        "  \n",
        "    model.eval()\n",
        "    y_true = []\n",
        "    y_probas = []\n",
        "    y_pred = []\n",
        "\n",
        "    with torch.no_grad():\n",
        "      \n",
        "        for data in tqdm(loader):\n",
        "          \n",
        "            data = data.to(device)\n",
        "            out = model(data)\n",
        "            \n",
        "            y_true += data.y.cpu().numpy().tolist()\n",
        "            y_pred += out.argmax(dim=1).cpu().numpy().tolist()  # absoulte predictions\n",
        "            y_probas += out[:, 1].cpu().numpy().tolist()  # probability of class 1\n",
        "\n",
        "    # Calculating few metrics\n",
        "\n",
        "    acc = accuracy_score(y_true, y_pred)\n",
        "    f1 = f1_score(y_true, y_pred)\n",
        "    fpr, tpr, thresholds = roc_curve(y_true, y_probas)\n",
        "    roc_auc = auc(fpr, tpr)\n",
        "\n",
        "    print('\\nResults\\n')\n",
        "    print(f'Testing Accuracy {acc:.3f}')\n",
        "    print(f'F1 score: {f1:.3f}')\n",
        "    print(f'ROC-AUC: {roc_auc:.3f}\\n')\n",
        "\n",
        "    return acc, f1, fpr, tpr, roc_auc"
      ],
      "metadata": {
        "id": "EK9t0EnBbzk2"
      },
      "execution_count": 21,
      "outputs": []
    },
    {
      "cell_type": "code",
      "source": [
        "# Testing Architecture 1\n",
        "\n",
        "acc, f1, fpr1, tpr1, area1 = test(model_GCN, device, test_loader)"
      ],
      "metadata": {
        "colab": {
          "base_uri": "https://localhost:8080/"
        },
        "id": "cFNz-JMSb40J",
        "outputId": "5944142d-bb4a-43b0-c26f-33272daeafba"
      },
      "execution_count": 24,
      "outputs": [
        {
          "output_type": "stream",
          "name": "stderr",
          "text": [
            "100%|██████████| 313/313 [00:16<00:00, 18.49it/s]"
          ]
        },
        {
          "output_type": "stream",
          "name": "stdout",
          "text": [
            "\n",
            "Results\n",
            "\n",
            "Testing Accuracy 0.768\n",
            "F1 score: 0.762\n",
            "ROC-AUC: 0.841\n",
            "\n"
          ]
        },
        {
          "output_type": "stream",
          "name": "stderr",
          "text": [
            "\n"
          ]
        }
      ]
    },
    {
      "cell_type": "code",
      "source": [
        "# Testing Architecture 2\n",
        "\n",
        "acc, f1, fpr2, tpr2, area2 = test(model_GraphNN, device, test_loader)"
      ],
      "metadata": {
        "colab": {
          "base_uri": "https://localhost:8080/"
        },
        "id": "dzqtU3lwCOJB",
        "outputId": "fcba271e-c0c9-46fb-b7a9-d1ef689e9b02"
      },
      "execution_count": 25,
      "outputs": [
        {
          "output_type": "stream",
          "name": "stderr",
          "text": [
            "100%|██████████| 313/313 [00:15<00:00, 19.59it/s]"
          ]
        },
        {
          "output_type": "stream",
          "name": "stdout",
          "text": [
            "\n",
            "Results\n",
            "\n",
            "Testing Accuracy 0.792\n",
            "F1 score: 0.788\n",
            "ROC-AUC: 0.872\n",
            "\n"
          ]
        },
        {
          "output_type": "stream",
          "name": "stderr",
          "text": [
            "\n"
          ]
        }
      ]
    },
    {
      "cell_type": "code",
      "source": [
        "plt.plot(fpr1, tpr1, color = 'red', label = f'arch1 auc : {area1:.3f}')\n",
        "plt.plot(fpr2, tpr2, color = 'blue', label = f'arch2 auc : {area2:.3f}')\n",
        "plt.plot([0, 1], [0, 1], 'k--')  # diagonal line representing random guessing\n",
        "plt.xlabel('False Positive Rate')\n",
        "plt.ylabel('True Positive Rate')\n",
        "plt.legend()\n",
        "\n",
        "plt.title('Receiver Operating Characteristic (ROC) Curve')\n",
        "plt.savefig(f'roc_auc.png')\n",
        "plt.show()"
      ],
      "metadata": {
        "colab": {
          "base_uri": "https://localhost:8080/",
          "height": 295
        },
        "id": "gAtzrkjvL8jB",
        "outputId": "b3bf4a3f-5387-48f0-b018-95e6d065d9e7"
      },
      "execution_count": 27,
      "outputs": [
        {
          "output_type": "display_data",
          "data": {
            "text/plain": [
              "<Figure size 432x288 with 1 Axes>"
            ],
            "image/png": "[encoded data removed]"
          },
          "metadata": {
            "needs_background": "light"
          }
        }
      ]
    }
  ]
}